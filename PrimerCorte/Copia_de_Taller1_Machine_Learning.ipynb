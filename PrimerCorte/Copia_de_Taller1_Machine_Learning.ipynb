{
  "nbformat": 4,
  "nbformat_minor": 0,
  "metadata": {
    "colab": {
      "provenance": []
    },
    "kernelspec": {
      "name": "python3",
      "display_name": "Python 3"
    },
    "language_info": {
      "name": "python"
    }
  },
  "cells": [
    {
      "cell_type": "markdown",
      "source": [
        "## ADDIDAS ANALISIS"
      ],
      "metadata": {
        "id": "uT0832q-kArY"
      }
    },
    {
      "cell_type": "code",
      "execution_count": 1,
      "metadata": {
        "colab": {
          "base_uri": "https://localhost:8080/"
        },
        "id": "LzdR1BxgaAfE",
        "outputId": "7da559ca-db60-4398-e746-33f0e2e8572f"
      },
      "outputs": [
        {
          "output_type": "stream",
          "name": "stdout",
          "text": [
            "--2025-09-03 21:42:25--  https://github.com/prayagpadwal/Adidas-Sales-Analysis/raw/main/Adidas%20US%20Sales%20Datasets.xlsx\n",
            "Resolving github.com (github.com)... 140.82.113.4\n",
            "Connecting to github.com (github.com)|140.82.113.4|:443... connected.\n",
            "HTTP request sent, awaiting response... 302 Found\n",
            "Location: https://raw.githubusercontent.com/prayagpadwal/Adidas-Sales-Analysis/main/Adidas%20US%20Sales%20Datasets.xlsx [following]\n",
            "--2025-09-03 21:42:25--  https://raw.githubusercontent.com/prayagpadwal/Adidas-Sales-Analysis/main/Adidas%20US%20Sales%20Datasets.xlsx\n",
            "Resolving raw.githubusercontent.com (raw.githubusercontent.com)... 185.199.108.133, 185.199.109.133, 185.199.110.133, ...\n",
            "Connecting to raw.githubusercontent.com (raw.githubusercontent.com)|185.199.108.133|:443... connected.\n",
            "HTTP request sent, awaiting response... 200 OK\n",
            "Length: 693038 (677K) [application/octet-stream]\n",
            "Saving to: ‘Adidas US Sales Datasets.xlsx’\n",
            "\n",
            "Adidas US Sales Dat 100%[===================>] 676.79K  --.-KB/s    in 0.06s   \n",
            "\n",
            "2025-09-03 21:42:25 (11.6 MB/s) - ‘Adidas US Sales Datasets.xlsx’ saved [693038/693038]\n",
            "\n"
          ]
        }
      ],
      "source": [
        "!wget https://github.com/prayagpadwal/Adidas-Sales-Analysis/raw/main/Adidas%20US%20Sales%20Datasets.xlsx"
      ]
    },
    {
      "cell_type": "code",
      "source": [
        "import pandas as pd\n",
        "data = pd.read_excel(\"Adidas US Sales Datasets.xlsx\")"
      ],
      "metadata": {
        "id": "7On1YDxqbXzc"
      },
      "execution_count": 2,
      "outputs": []
    },
    {
      "cell_type": "code",
      "source": [
        "data.head(3)"
      ],
      "metadata": {
        "colab": {
          "base_uri": "https://localhost:8080/",
          "height": 143
        },
        "id": "gOCTKTKJb4WE",
        "outputId": "f7a4960e-f4b6-4f1e-e118-426f10625cf2"
      },
      "execution_count": 3,
      "outputs": [
        {
          "output_type": "execute_result",
          "data": {
            "text/plain": [
              "      Retailer  Retailer ID Invoice Date     Region     State      City  \\\n",
              "0  Foot Locker      1185732   2020-01-01  Northeast  New York  New York   \n",
              "1  Foot Locker      1185732   2020-01-02  Northeast  New York  New York   \n",
              "2  Foot Locker      1185732   2020-01-03  Northeast  New York  New York   \n",
              "\n",
              "                   Product  Price per Unit  Units Sold  Total Sales  \\\n",
              "0    Men's Street Footwear            50.0        1200     600000.0   \n",
              "1  Men's Athletic Footwear            50.0        1000     500000.0   \n",
              "2  Women's Street Footwear            40.0        1000     400000.0   \n",
              "\n",
              "   Operating Profit  Operating Margin Sales Method  \n",
              "0          300000.0              0.50     In-store  \n",
              "1          150000.0              0.30     In-store  \n",
              "2          140000.0              0.35     In-store  "
            ],
            "text/html": [
              "\n",
              "  <div id=\"df-44d5bce0-9256-4164-b2c8-af4b3f170948\" class=\"colab-df-container\">\n",
              "    <div>\n",
              "<style scoped>\n",
              "    .dataframe tbody tr th:only-of-type {\n",
              "        vertical-align: middle;\n",
              "    }\n",
              "\n",
              "    .dataframe tbody tr th {\n",
              "        vertical-align: top;\n",
              "    }\n",
              "\n",
              "    .dataframe thead th {\n",
              "        text-align: right;\n",
              "    }\n",
              "</style>\n",
              "<table border=\"1\" class=\"dataframe\">\n",
              "  <thead>\n",
              "    <tr style=\"text-align: right;\">\n",
              "      <th></th>\n",
              "      <th>Retailer</th>\n",
              "      <th>Retailer ID</th>\n",
              "      <th>Invoice Date</th>\n",
              "      <th>Region</th>\n",
              "      <th>State</th>\n",
              "      <th>City</th>\n",
              "      <th>Product</th>\n",
              "      <th>Price per Unit</th>\n",
              "      <th>Units Sold</th>\n",
              "      <th>Total Sales</th>\n",
              "      <th>Operating Profit</th>\n",
              "      <th>Operating Margin</th>\n",
              "      <th>Sales Method</th>\n",
              "    </tr>\n",
              "  </thead>\n",
              "  <tbody>\n",
              "    <tr>\n",
              "      <th>0</th>\n",
              "      <td>Foot Locker</td>\n",
              "      <td>1185732</td>\n",
              "      <td>2020-01-01</td>\n",
              "      <td>Northeast</td>\n",
              "      <td>New York</td>\n",
              "      <td>New York</td>\n",
              "      <td>Men's Street Footwear</td>\n",
              "      <td>50.0</td>\n",
              "      <td>1200</td>\n",
              "      <td>600000.0</td>\n",
              "      <td>300000.0</td>\n",
              "      <td>0.50</td>\n",
              "      <td>In-store</td>\n",
              "    </tr>\n",
              "    <tr>\n",
              "      <th>1</th>\n",
              "      <td>Foot Locker</td>\n",
              "      <td>1185732</td>\n",
              "      <td>2020-01-02</td>\n",
              "      <td>Northeast</td>\n",
              "      <td>New York</td>\n",
              "      <td>New York</td>\n",
              "      <td>Men's Athletic Footwear</td>\n",
              "      <td>50.0</td>\n",
              "      <td>1000</td>\n",
              "      <td>500000.0</td>\n",
              "      <td>150000.0</td>\n",
              "      <td>0.30</td>\n",
              "      <td>In-store</td>\n",
              "    </tr>\n",
              "    <tr>\n",
              "      <th>2</th>\n",
              "      <td>Foot Locker</td>\n",
              "      <td>1185732</td>\n",
              "      <td>2020-01-03</td>\n",
              "      <td>Northeast</td>\n",
              "      <td>New York</td>\n",
              "      <td>New York</td>\n",
              "      <td>Women's Street Footwear</td>\n",
              "      <td>40.0</td>\n",
              "      <td>1000</td>\n",
              "      <td>400000.0</td>\n",
              "      <td>140000.0</td>\n",
              "      <td>0.35</td>\n",
              "      <td>In-store</td>\n",
              "    </tr>\n",
              "  </tbody>\n",
              "</table>\n",
              "</div>\n",
              "    <div class=\"colab-df-buttons\">\n",
              "\n",
              "  <div class=\"colab-df-container\">\n",
              "    <button class=\"colab-df-convert\" onclick=\"convertToInteractive('df-44d5bce0-9256-4164-b2c8-af4b3f170948')\"\n",
              "            title=\"Convert this dataframe to an interactive table.\"\n",
              "            style=\"display:none;\">\n",
              "\n",
              "  <svg xmlns=\"http://www.w3.org/2000/svg\" height=\"24px\" viewBox=\"0 -960 960 960\">\n",
              "    <path d=\"M120-120v-720h720v720H120Zm60-500h600v-160H180v160Zm220 220h160v-160H400v160Zm0 220h160v-160H400v160ZM180-400h160v-160H180v160Zm440 0h160v-160H620v160ZM180-180h160v-160H180v160Zm440 0h160v-160H620v160Z\"/>\n",
              "  </svg>\n",
              "    </button>\n",
              "\n",
              "  <style>\n",
              "    .colab-df-container {\n",
              "      display:flex;\n",
              "      gap: 12px;\n",
              "    }\n",
              "\n",
              "    .colab-df-convert {\n",
              "      background-color: #E8F0FE;\n",
              "      border: none;\n",
              "      border-radius: 50%;\n",
              "      cursor: pointer;\n",
              "      display: none;\n",
              "      fill: #1967D2;\n",
              "      height: 32px;\n",
              "      padding: 0 0 0 0;\n",
              "      width: 32px;\n",
              "    }\n",
              "\n",
              "    .colab-df-convert:hover {\n",
              "      background-color: #E2EBFA;\n",
              "      box-shadow: 0px 1px 2px rgba(60, 64, 67, 0.3), 0px 1px 3px 1px rgba(60, 64, 67, 0.15);\n",
              "      fill: #174EA6;\n",
              "    }\n",
              "\n",
              "    .colab-df-buttons div {\n",
              "      margin-bottom: 4px;\n",
              "    }\n",
              "\n",
              "    [theme=dark] .colab-df-convert {\n",
              "      background-color: #3B4455;\n",
              "      fill: #D2E3FC;\n",
              "    }\n",
              "\n",
              "    [theme=dark] .colab-df-convert:hover {\n",
              "      background-color: #434B5C;\n",
              "      box-shadow: 0px 1px 3px 1px rgba(0, 0, 0, 0.15);\n",
              "      filter: drop-shadow(0px 1px 2px rgba(0, 0, 0, 0.3));\n",
              "      fill: #FFFFFF;\n",
              "    }\n",
              "  </style>\n",
              "\n",
              "    <script>\n",
              "      const buttonEl =\n",
              "        document.querySelector('#df-44d5bce0-9256-4164-b2c8-af4b3f170948 button.colab-df-convert');\n",
              "      buttonEl.style.display =\n",
              "        google.colab.kernel.accessAllowed ? 'block' : 'none';\n",
              "\n",
              "      async function convertToInteractive(key) {\n",
              "        const element = document.querySelector('#df-44d5bce0-9256-4164-b2c8-af4b3f170948');\n",
              "        const dataTable =\n",
              "          await google.colab.kernel.invokeFunction('convertToInteractive',\n",
              "                                                    [key], {});\n",
              "        if (!dataTable) return;\n",
              "\n",
              "        const docLinkHtml = 'Like what you see? Visit the ' +\n",
              "          '<a target=\"_blank\" href=https://colab.research.google.com/notebooks/data_table.ipynb>data table notebook</a>'\n",
              "          + ' to learn more about interactive tables.';\n",
              "        element.innerHTML = '';\n",
              "        dataTable['output_type'] = 'display_data';\n",
              "        await google.colab.output.renderOutput(dataTable, element);\n",
              "        const docLink = document.createElement('div');\n",
              "        docLink.innerHTML = docLinkHtml;\n",
              "        element.appendChild(docLink);\n",
              "      }\n",
              "    </script>\n",
              "  </div>\n",
              "\n",
              "\n",
              "    <div id=\"df-a30c20b7-89b1-41c1-8a93-dc83f12282c7\">\n",
              "      <button class=\"colab-df-quickchart\" onclick=\"quickchart('df-a30c20b7-89b1-41c1-8a93-dc83f12282c7')\"\n",
              "                title=\"Suggest charts\"\n",
              "                style=\"display:none;\">\n",
              "\n",
              "<svg xmlns=\"http://www.w3.org/2000/svg\" height=\"24px\"viewBox=\"0 0 24 24\"\n",
              "     width=\"24px\">\n",
              "    <g>\n",
              "        <path d=\"M19 3H5c-1.1 0-2 .9-2 2v14c0 1.1.9 2 2 2h14c1.1 0 2-.9 2-2V5c0-1.1-.9-2-2-2zM9 17H7v-7h2v7zm4 0h-2V7h2v10zm4 0h-2v-4h2v4z\"/>\n",
              "    </g>\n",
              "</svg>\n",
              "      </button>\n",
              "\n",
              "<style>\n",
              "  .colab-df-quickchart {\n",
              "      --bg-color: #E8F0FE;\n",
              "      --fill-color: #1967D2;\n",
              "      --hover-bg-color: #E2EBFA;\n",
              "      --hover-fill-color: #174EA6;\n",
              "      --disabled-fill-color: #AAA;\n",
              "      --disabled-bg-color: #DDD;\n",
              "  }\n",
              "\n",
              "  [theme=dark] .colab-df-quickchart {\n",
              "      --bg-color: #3B4455;\n",
              "      --fill-color: #D2E3FC;\n",
              "      --hover-bg-color: #434B5C;\n",
              "      --hover-fill-color: #FFFFFF;\n",
              "      --disabled-bg-color: #3B4455;\n",
              "      --disabled-fill-color: #666;\n",
              "  }\n",
              "\n",
              "  .colab-df-quickchart {\n",
              "    background-color: var(--bg-color);\n",
              "    border: none;\n",
              "    border-radius: 50%;\n",
              "    cursor: pointer;\n",
              "    display: none;\n",
              "    fill: var(--fill-color);\n",
              "    height: 32px;\n",
              "    padding: 0;\n",
              "    width: 32px;\n",
              "  }\n",
              "\n",
              "  .colab-df-quickchart:hover {\n",
              "    background-color: var(--hover-bg-color);\n",
              "    box-shadow: 0 1px 2px rgba(60, 64, 67, 0.3), 0 1px 3px 1px rgba(60, 64, 67, 0.15);\n",
              "    fill: var(--button-hover-fill-color);\n",
              "  }\n",
              "\n",
              "  .colab-df-quickchart-complete:disabled,\n",
              "  .colab-df-quickchart-complete:disabled:hover {\n",
              "    background-color: var(--disabled-bg-color);\n",
              "    fill: var(--disabled-fill-color);\n",
              "    box-shadow: none;\n",
              "  }\n",
              "\n",
              "  .colab-df-spinner {\n",
              "    border: 2px solid var(--fill-color);\n",
              "    border-color: transparent;\n",
              "    border-bottom-color: var(--fill-color);\n",
              "    animation:\n",
              "      spin 1s steps(1) infinite;\n",
              "  }\n",
              "\n",
              "  @keyframes spin {\n",
              "    0% {\n",
              "      border-color: transparent;\n",
              "      border-bottom-color: var(--fill-color);\n",
              "      border-left-color: var(--fill-color);\n",
              "    }\n",
              "    20% {\n",
              "      border-color: transparent;\n",
              "      border-left-color: var(--fill-color);\n",
              "      border-top-color: var(--fill-color);\n",
              "    }\n",
              "    30% {\n",
              "      border-color: transparent;\n",
              "      border-left-color: var(--fill-color);\n",
              "      border-top-color: var(--fill-color);\n",
              "      border-right-color: var(--fill-color);\n",
              "    }\n",
              "    40% {\n",
              "      border-color: transparent;\n",
              "      border-right-color: var(--fill-color);\n",
              "      border-top-color: var(--fill-color);\n",
              "    }\n",
              "    60% {\n",
              "      border-color: transparent;\n",
              "      border-right-color: var(--fill-color);\n",
              "    }\n",
              "    80% {\n",
              "      border-color: transparent;\n",
              "      border-right-color: var(--fill-color);\n",
              "      border-bottom-color: var(--fill-color);\n",
              "    }\n",
              "    90% {\n",
              "      border-color: transparent;\n",
              "      border-bottom-color: var(--fill-color);\n",
              "    }\n",
              "  }\n",
              "</style>\n",
              "\n",
              "      <script>\n",
              "        async function quickchart(key) {\n",
              "          const quickchartButtonEl =\n",
              "            document.querySelector('#' + key + ' button');\n",
              "          quickchartButtonEl.disabled = true;  // To prevent multiple clicks.\n",
              "          quickchartButtonEl.classList.add('colab-df-spinner');\n",
              "          try {\n",
              "            const charts = await google.colab.kernel.invokeFunction(\n",
              "                'suggestCharts', [key], {});\n",
              "          } catch (error) {\n",
              "            console.error('Error during call to suggestCharts:', error);\n",
              "          }\n",
              "          quickchartButtonEl.classList.remove('colab-df-spinner');\n",
              "          quickchartButtonEl.classList.add('colab-df-quickchart-complete');\n",
              "        }\n",
              "        (() => {\n",
              "          let quickchartButtonEl =\n",
              "            document.querySelector('#df-a30c20b7-89b1-41c1-8a93-dc83f12282c7 button');\n",
              "          quickchartButtonEl.style.display =\n",
              "            google.colab.kernel.accessAllowed ? 'block' : 'none';\n",
              "        })();\n",
              "      </script>\n",
              "    </div>\n",
              "\n",
              "    </div>\n",
              "  </div>\n"
            ],
            "application/vnd.google.colaboratory.intrinsic+json": {
              "type": "dataframe",
              "variable_name": "data",
              "summary": "{\n  \"name\": \"data\",\n  \"rows\": 9648,\n  \"fields\": [\n    {\n      \"column\": \"Retailer\",\n      \"properties\": {\n        \"dtype\": \"category\",\n        \"num_unique_values\": 6,\n        \"samples\": [\n          \"Foot Locker\",\n          \"Walmart\",\n          \"Amazon\"\n        ],\n        \"semantic_type\": \"\",\n        \"description\": \"\"\n      }\n    },\n    {\n      \"column\": \"Retailer ID\",\n      \"properties\": {\n        \"dtype\": \"number\",\n        \"std\": 26360,\n        \"min\": 1128299,\n        \"max\": 1197831,\n        \"num_unique_values\": 4,\n        \"samples\": [\n          1197831,\n          1189833,\n          1185732\n        ],\n        \"semantic_type\": \"\",\n        \"description\": \"\"\n      }\n    },\n    {\n      \"column\": \"Invoice Date\",\n      \"properties\": {\n        \"dtype\": \"date\",\n        \"min\": \"2020-01-01 00:00:00\",\n        \"max\": \"2021-12-31 00:00:00\",\n        \"num_unique_values\": 724,\n        \"samples\": [\n          \"2021-07-12 00:00:00\",\n          \"2020-02-18 00:00:00\",\n          \"2020-04-12 00:00:00\"\n        ],\n        \"semantic_type\": \"\",\n        \"description\": \"\"\n      }\n    },\n    {\n      \"column\": \"Region\",\n      \"properties\": {\n        \"dtype\": \"category\",\n        \"num_unique_values\": 5,\n        \"samples\": [\n          \"South\",\n          \"Southeast\",\n          \"West\"\n        ],\n        \"semantic_type\": \"\",\n        \"description\": \"\"\n      }\n    },\n    {\n      \"column\": \"State\",\n      \"properties\": {\n        \"dtype\": \"category\",\n        \"num_unique_values\": 50,\n        \"samples\": [\n          \"Alabama\",\n          \"Wisconsin\",\n          \"Ohio\"\n        ],\n        \"semantic_type\": \"\",\n        \"description\": \"\"\n      }\n    },\n    {\n      \"column\": \"City\",\n      \"properties\": {\n        \"dtype\": \"category\",\n        \"num_unique_values\": 52,\n        \"samples\": [\n          \"Orlando\",\n          \"Des Moines\",\n          \"Hartford\"\n        ],\n        \"semantic_type\": \"\",\n        \"description\": \"\"\n      }\n    },\n    {\n      \"column\": \"Product\",\n      \"properties\": {\n        \"dtype\": \"category\",\n        \"num_unique_values\": 6,\n        \"samples\": [\n          \"Men's Street Footwear\",\n          \"Men's Athletic Footwear\",\n          \"Women's Apparel\"\n        ],\n        \"semantic_type\": \"\",\n        \"description\": \"\"\n      }\n    },\n    {\n      \"column\": \"Price per Unit\",\n      \"properties\": {\n        \"dtype\": \"number\",\n        \"std\": 14.705397125008178,\n        \"min\": 7.0,\n        \"max\": 110.00000000000001,\n        \"num_unique_values\": 146,\n        \"samples\": [\n          90.0,\n          38.0,\n          90.00000000000001\n        ],\n        \"semantic_type\": \"\",\n        \"description\": \"\"\n      }\n    },\n    {\n      \"column\": \"Units Sold\",\n      \"properties\": {\n        \"dtype\": \"number\",\n        \"std\": 214,\n        \"min\": 0,\n        \"max\": 1275,\n        \"num_unique_values\": 361,\n        \"samples\": [\n          156,\n          475,\n          1075\n        ],\n        \"semantic_type\": \"\",\n        \"description\": \"\"\n      }\n    },\n    {\n      \"column\": \"Total Sales\",\n      \"properties\": {\n        \"dtype\": \"number\",\n        \"std\": 141916.01672683068,\n        \"min\": 0.0,\n        \"max\": 825000.0000000001,\n        \"num_unique_values\": 3512,\n        \"samples\": [\n          248000.0,\n          2997.0,\n          20212.0\n        ],\n        \"semantic_type\": \"\",\n        \"description\": \"\"\n      }\n    },\n    {\n      \"column\": \"Operating Profit\",\n      \"properties\": {\n        \"dtype\": \"number\",\n        \"std\": 54193.113713232204,\n        \"min\": 0.0,\n        \"max\": 390000.0,\n        \"num_unique_values\": 6510,\n        \"samples\": [\n          57749.99999999999,\n          486.72,\n          393.29999999999995\n        ],\n        \"semantic_type\": \"\",\n        \"description\": \"\"\n      }\n    },\n    {\n      \"column\": \"Operating Margin\",\n      \"properties\": {\n        \"dtype\": \"number\",\n        \"std\": 0.09719741850510741,\n        \"min\": 0.1,\n        \"max\": 0.8000000000000002,\n        \"num_unique_values\": 127,\n        \"samples\": [\n          0.62,\n          0.17,\n          0.7500000000000001\n        ],\n        \"semantic_type\": \"\",\n        \"description\": \"\"\n      }\n    },\n    {\n      \"column\": \"Sales Method\",\n      \"properties\": {\n        \"dtype\": \"category\",\n        \"num_unique_values\": 3,\n        \"samples\": [\n          \"In-store\",\n          \"Outlet\",\n          \"Online\"\n        ],\n        \"semantic_type\": \"\",\n        \"description\": \"\"\n      }\n    }\n  ]\n}"
            }
          },
          "metadata": {},
          "execution_count": 3
        }
      ]
    },
    {
      "cell_type": "markdown",
      "source": [
        "0. Cuantas filas y columnas tiene la tabla?"
      ],
      "metadata": {
        "id": "K2vRav6wboQY"
      }
    },
    {
      "cell_type": "code",
      "source": [
        "data.shape"
      ],
      "metadata": {
        "id": "Hxw-Ouzgbw9v",
        "colab": {
          "base_uri": "https://localhost:8080/"
        },
        "outputId": "c187d8d6-3af0-4e19-9d10-01bcd56f687f"
      },
      "execution_count": 5,
      "outputs": [
        {
          "output_type": "execute_result",
          "data": {
            "text/plain": [
              "(9648, 13)"
            ]
          },
          "metadata": {},
          "execution_count": 5
        }
      ]
    },
    {
      "cell_type": "code",
      "source": [
        "data.head(1)"
      ],
      "metadata": {
        "colab": {
          "base_uri": "https://localhost:8080/",
          "height": 81
        },
        "id": "JtJzNR84ilTM",
        "outputId": "1bb13b01-40d7-42fa-b24b-41b8f6fceb05"
      },
      "execution_count": 6,
      "outputs": [
        {
          "output_type": "execute_result",
          "data": {
            "text/plain": [
              "      Retailer  Retailer ID Invoice Date     Region     State      City  \\\n",
              "0  Foot Locker      1185732   2020-01-01  Northeast  New York  New York   \n",
              "\n",
              "                 Product  Price per Unit  Units Sold  Total Sales  \\\n",
              "0  Men's Street Footwear            50.0        1200     600000.0   \n",
              "\n",
              "   Operating Profit  Operating Margin Sales Method  \n",
              "0          300000.0               0.5     In-store  "
            ],
            "text/html": [
              "\n",
              "  <div id=\"df-cdac840c-32e8-4fa0-927a-c7096e721002\" class=\"colab-df-container\">\n",
              "    <div>\n",
              "<style scoped>\n",
              "    .dataframe tbody tr th:only-of-type {\n",
              "        vertical-align: middle;\n",
              "    }\n",
              "\n",
              "    .dataframe tbody tr th {\n",
              "        vertical-align: top;\n",
              "    }\n",
              "\n",
              "    .dataframe thead th {\n",
              "        text-align: right;\n",
              "    }\n",
              "</style>\n",
              "<table border=\"1\" class=\"dataframe\">\n",
              "  <thead>\n",
              "    <tr style=\"text-align: right;\">\n",
              "      <th></th>\n",
              "      <th>Retailer</th>\n",
              "      <th>Retailer ID</th>\n",
              "      <th>Invoice Date</th>\n",
              "      <th>Region</th>\n",
              "      <th>State</th>\n",
              "      <th>City</th>\n",
              "      <th>Product</th>\n",
              "      <th>Price per Unit</th>\n",
              "      <th>Units Sold</th>\n",
              "      <th>Total Sales</th>\n",
              "      <th>Operating Profit</th>\n",
              "      <th>Operating Margin</th>\n",
              "      <th>Sales Method</th>\n",
              "    </tr>\n",
              "  </thead>\n",
              "  <tbody>\n",
              "    <tr>\n",
              "      <th>0</th>\n",
              "      <td>Foot Locker</td>\n",
              "      <td>1185732</td>\n",
              "      <td>2020-01-01</td>\n",
              "      <td>Northeast</td>\n",
              "      <td>New York</td>\n",
              "      <td>New York</td>\n",
              "      <td>Men's Street Footwear</td>\n",
              "      <td>50.0</td>\n",
              "      <td>1200</td>\n",
              "      <td>600000.0</td>\n",
              "      <td>300000.0</td>\n",
              "      <td>0.5</td>\n",
              "      <td>In-store</td>\n",
              "    </tr>\n",
              "  </tbody>\n",
              "</table>\n",
              "</div>\n",
              "    <div class=\"colab-df-buttons\">\n",
              "\n",
              "  <div class=\"colab-df-container\">\n",
              "    <button class=\"colab-df-convert\" onclick=\"convertToInteractive('df-cdac840c-32e8-4fa0-927a-c7096e721002')\"\n",
              "            title=\"Convert this dataframe to an interactive table.\"\n",
              "            style=\"display:none;\">\n",
              "\n",
              "  <svg xmlns=\"http://www.w3.org/2000/svg\" height=\"24px\" viewBox=\"0 -960 960 960\">\n",
              "    <path d=\"M120-120v-720h720v720H120Zm60-500h600v-160H180v160Zm220 220h160v-160H400v160Zm0 220h160v-160H400v160ZM180-400h160v-160H180v160Zm440 0h160v-160H620v160ZM180-180h160v-160H180v160Zm440 0h160v-160H620v160Z\"/>\n",
              "  </svg>\n",
              "    </button>\n",
              "\n",
              "  <style>\n",
              "    .colab-df-container {\n",
              "      display:flex;\n",
              "      gap: 12px;\n",
              "    }\n",
              "\n",
              "    .colab-df-convert {\n",
              "      background-color: #E8F0FE;\n",
              "      border: none;\n",
              "      border-radius: 50%;\n",
              "      cursor: pointer;\n",
              "      display: none;\n",
              "      fill: #1967D2;\n",
              "      height: 32px;\n",
              "      padding: 0 0 0 0;\n",
              "      width: 32px;\n",
              "    }\n",
              "\n",
              "    .colab-df-convert:hover {\n",
              "      background-color: #E2EBFA;\n",
              "      box-shadow: 0px 1px 2px rgba(60, 64, 67, 0.3), 0px 1px 3px 1px rgba(60, 64, 67, 0.15);\n",
              "      fill: #174EA6;\n",
              "    }\n",
              "\n",
              "    .colab-df-buttons div {\n",
              "      margin-bottom: 4px;\n",
              "    }\n",
              "\n",
              "    [theme=dark] .colab-df-convert {\n",
              "      background-color: #3B4455;\n",
              "      fill: #D2E3FC;\n",
              "    }\n",
              "\n",
              "    [theme=dark] .colab-df-convert:hover {\n",
              "      background-color: #434B5C;\n",
              "      box-shadow: 0px 1px 3px 1px rgba(0, 0, 0, 0.15);\n",
              "      filter: drop-shadow(0px 1px 2px rgba(0, 0, 0, 0.3));\n",
              "      fill: #FFFFFF;\n",
              "    }\n",
              "  </style>\n",
              "\n",
              "    <script>\n",
              "      const buttonEl =\n",
              "        document.querySelector('#df-cdac840c-32e8-4fa0-927a-c7096e721002 button.colab-df-convert');\n",
              "      buttonEl.style.display =\n",
              "        google.colab.kernel.accessAllowed ? 'block' : 'none';\n",
              "\n",
              "      async function convertToInteractive(key) {\n",
              "        const element = document.querySelector('#df-cdac840c-32e8-4fa0-927a-c7096e721002');\n",
              "        const dataTable =\n",
              "          await google.colab.kernel.invokeFunction('convertToInteractive',\n",
              "                                                    [key], {});\n",
              "        if (!dataTable) return;\n",
              "\n",
              "        const docLinkHtml = 'Like what you see? Visit the ' +\n",
              "          '<a target=\"_blank\" href=https://colab.research.google.com/notebooks/data_table.ipynb>data table notebook</a>'\n",
              "          + ' to learn more about interactive tables.';\n",
              "        element.innerHTML = '';\n",
              "        dataTable['output_type'] = 'display_data';\n",
              "        await google.colab.output.renderOutput(dataTable, element);\n",
              "        const docLink = document.createElement('div');\n",
              "        docLink.innerHTML = docLinkHtml;\n",
              "        element.appendChild(docLink);\n",
              "      }\n",
              "    </script>\n",
              "  </div>\n",
              "\n",
              "\n",
              "    </div>\n",
              "  </div>\n"
            ],
            "application/vnd.google.colaboratory.intrinsic+json": {
              "type": "dataframe",
              "variable_name": "data",
              "summary": "{\n  \"name\": \"data\",\n  \"rows\": 9648,\n  \"fields\": [\n    {\n      \"column\": \"Retailer\",\n      \"properties\": {\n        \"dtype\": \"category\",\n        \"num_unique_values\": 6,\n        \"samples\": [\n          \"Foot Locker\",\n          \"Walmart\",\n          \"Amazon\"\n        ],\n        \"semantic_type\": \"\",\n        \"description\": \"\"\n      }\n    },\n    {\n      \"column\": \"Retailer ID\",\n      \"properties\": {\n        \"dtype\": \"number\",\n        \"std\": 26360,\n        \"min\": 1128299,\n        \"max\": 1197831,\n        \"num_unique_values\": 4,\n        \"samples\": [\n          1197831,\n          1189833,\n          1185732\n        ],\n        \"semantic_type\": \"\",\n        \"description\": \"\"\n      }\n    },\n    {\n      \"column\": \"Invoice Date\",\n      \"properties\": {\n        \"dtype\": \"date\",\n        \"min\": \"2020-01-01 00:00:00\",\n        \"max\": \"2021-12-31 00:00:00\",\n        \"num_unique_values\": 724,\n        \"samples\": [\n          \"2021-07-12 00:00:00\",\n          \"2020-02-18 00:00:00\",\n          \"2020-04-12 00:00:00\"\n        ],\n        \"semantic_type\": \"\",\n        \"description\": \"\"\n      }\n    },\n    {\n      \"column\": \"Region\",\n      \"properties\": {\n        \"dtype\": \"category\",\n        \"num_unique_values\": 5,\n        \"samples\": [\n          \"South\",\n          \"Southeast\",\n          \"West\"\n        ],\n        \"semantic_type\": \"\",\n        \"description\": \"\"\n      }\n    },\n    {\n      \"column\": \"State\",\n      \"properties\": {\n        \"dtype\": \"category\",\n        \"num_unique_values\": 50,\n        \"samples\": [\n          \"Alabama\",\n          \"Wisconsin\",\n          \"Ohio\"\n        ],\n        \"semantic_type\": \"\",\n        \"description\": \"\"\n      }\n    },\n    {\n      \"column\": \"City\",\n      \"properties\": {\n        \"dtype\": \"category\",\n        \"num_unique_values\": 52,\n        \"samples\": [\n          \"Orlando\",\n          \"Des Moines\",\n          \"Hartford\"\n        ],\n        \"semantic_type\": \"\",\n        \"description\": \"\"\n      }\n    },\n    {\n      \"column\": \"Product\",\n      \"properties\": {\n        \"dtype\": \"category\",\n        \"num_unique_values\": 6,\n        \"samples\": [\n          \"Men's Street Footwear\",\n          \"Men's Athletic Footwear\",\n          \"Women's Apparel\"\n        ],\n        \"semantic_type\": \"\",\n        \"description\": \"\"\n      }\n    },\n    {\n      \"column\": \"Price per Unit\",\n      \"properties\": {\n        \"dtype\": \"number\",\n        \"std\": 14.705397125008178,\n        \"min\": 7.0,\n        \"max\": 110.00000000000001,\n        \"num_unique_values\": 146,\n        \"samples\": [\n          90.0,\n          38.0,\n          90.00000000000001\n        ],\n        \"semantic_type\": \"\",\n        \"description\": \"\"\n      }\n    },\n    {\n      \"column\": \"Units Sold\",\n      \"properties\": {\n        \"dtype\": \"number\",\n        \"std\": 214,\n        \"min\": 0,\n        \"max\": 1275,\n        \"num_unique_values\": 361,\n        \"samples\": [\n          156,\n          475,\n          1075\n        ],\n        \"semantic_type\": \"\",\n        \"description\": \"\"\n      }\n    },\n    {\n      \"column\": \"Total Sales\",\n      \"properties\": {\n        \"dtype\": \"number\",\n        \"std\": 141916.01672683068,\n        \"min\": 0.0,\n        \"max\": 825000.0000000001,\n        \"num_unique_values\": 3512,\n        \"samples\": [\n          248000.0,\n          2997.0,\n          20212.0\n        ],\n        \"semantic_type\": \"\",\n        \"description\": \"\"\n      }\n    },\n    {\n      \"column\": \"Operating Profit\",\n      \"properties\": {\n        \"dtype\": \"number\",\n        \"std\": 54193.113713232204,\n        \"min\": 0.0,\n        \"max\": 390000.0,\n        \"num_unique_values\": 6510,\n        \"samples\": [\n          57749.99999999999,\n          486.72,\n          393.29999999999995\n        ],\n        \"semantic_type\": \"\",\n        \"description\": \"\"\n      }\n    },\n    {\n      \"column\": \"Operating Margin\",\n      \"properties\": {\n        \"dtype\": \"number\",\n        \"std\": 0.09719741850510741,\n        \"min\": 0.1,\n        \"max\": 0.8000000000000002,\n        \"num_unique_values\": 127,\n        \"samples\": [\n          0.62,\n          0.17,\n          0.7500000000000001\n        ],\n        \"semantic_type\": \"\",\n        \"description\": \"\"\n      }\n    },\n    {\n      \"column\": \"Sales Method\",\n      \"properties\": {\n        \"dtype\": \"category\",\n        \"num_unique_values\": 3,\n        \"samples\": [\n          \"In-store\",\n          \"Outlet\",\n          \"Online\"\n        ],\n        \"semantic_type\": \"\",\n        \"description\": \"\"\n      }\n    }\n  ]\n}"
            }
          },
          "metadata": {},
          "execution_count": 6
        }
      ]
    },
    {
      "cell_type": "markdown",
      "source": [
        "0.1 Cual es la unidad de observación de la tabla?"
      ],
      "metadata": {
        "id": "hvV7YNu2bsdP"
      }
    },
    {
      "cell_type": "markdown",
      "source": [
        "tenemos clientes, ID del cliente, la region, el estado, la ciudad, el producto, unidades vendidas, ventas totales, operación marginal."
      ],
      "metadata": {
        "id": "8C4DkVzpirxl"
      }
    },
    {
      "cell_type": "markdown",
      "source": [],
      "metadata": {
        "id": "5efbuS9MjYFi"
      }
    },
    {
      "cell_type": "markdown",
      "source": [
        "1. Cuales fueron las ventas totales?"
      ],
      "metadata": {
        "id": "vxcGIEUEcsvv"
      }
    },
    {
      "cell_type": "code",
      "source": [
        "data['Total Sales'].sum()"
      ],
      "metadata": {
        "id": "SdqqpyrTc4LK",
        "colab": {
          "base_uri": "https://localhost:8080/"
        },
        "outputId": "ebc6aab2-4ec7-4fe5-9eda-81ce32f618c5"
      },
      "execution_count": 8,
      "outputs": [
        {
          "output_type": "execute_result",
          "data": {
            "text/plain": [
              "np.float64(899902125.0)"
            ]
          },
          "metadata": {},
          "execution_count": 8
        }
      ]
    },
    {
      "cell_type": "markdown",
      "source": [
        "Las ventas totales fueron de 899.902.125"
      ],
      "metadata": {
        "id": "CY7iaR_jjPCU"
      }
    },
    {
      "cell_type": "markdown",
      "source": [
        "1.1 Cuanto fue la ganancia operacional total?"
      ],
      "metadata": {
        "id": "J21TAd4ucz50"
      }
    },
    {
      "cell_type": "code",
      "source": [
        "data['Operating Profit'].sum()"
      ],
      "metadata": {
        "id": "MHiFtHy9dBX8",
        "colab": {
          "base_uri": "https://localhost:8080/"
        },
        "outputId": "af984246-4a41-4259-9d9d-1adac4ddbeac"
      },
      "execution_count": 11,
      "outputs": [
        {
          "output_type": "execute_result",
          "data": {
            "text/plain": [
              "np.float64(332134761.45000005)"
            ]
          },
          "metadata": {},
          "execution_count": 11
        }
      ]
    },
    {
      "cell_type": "markdown",
      "source": [
        "la ganancia operacional total fue de 332.134.761"
      ],
      "metadata": {
        "id": "zfx2EffDka1k"
      }
    },
    {
      "cell_type": "markdown",
      "source": [
        "1.2 Cuanto fue el margen promedio total ?"
      ],
      "metadata": {
        "id": "Bmi_HUupc5hF"
      }
    },
    {
      "cell_type": "code",
      "source": [
        "data['Operating Margin'].mean()*100\n"
      ],
      "metadata": {
        "id": "0Ki_c74WdLcn",
        "colab": {
          "base_uri": "https://localhost:8080/"
        },
        "outputId": "5bb0033b-18b3-4b3a-eb9f-682ef3b32579"
      },
      "execution_count": 15,
      "outputs": [
        {
          "output_type": "execute_result",
          "data": {
            "text/plain": [
              "np.float64(42.29912935323383)"
            ]
          },
          "metadata": {},
          "execution_count": 15
        }
      ]
    },
    {
      "cell_type": "markdown",
      "source": [
        "el margen promedio total es 42,30%"
      ],
      "metadata": {
        "id": "gu5R8Px9lXgc"
      }
    },
    {
      "cell_type": "markdown",
      "source": [
        "1.3 Por que el margen promedio y no el total. Explique con palabras"
      ],
      "metadata": {
        "id": "wKxBQAG-dYB5"
      }
    },
    {
      "cell_type": "markdown",
      "source": [
        "porque si pongo el margen total no me va a decir la variación de las ganancias netas que la empresa obtuvo, me va a dar un número muy grande."
      ],
      "metadata": {
        "id": "g39jeTxhkzxU"
      }
    },
    {
      "cell_type": "markdown",
      "source": [
        "2. Cuales fueron las ventas totales por Retailer?"
      ],
      "metadata": {
        "id": "sbRuC9tcdeJH"
      }
    },
    {
      "cell_type": "code",
      "source": [
        "ventas_totales = data.groupby('Retailer')['Total Sales'].sum()"
      ],
      "metadata": {
        "id": "UuOEvmpvl7qL"
      },
      "execution_count": 22,
      "outputs": []
    },
    {
      "cell_type": "code",
      "source": [
        "ventas_totales"
      ],
      "metadata": {
        "colab": {
          "base_uri": "https://localhost:8080/",
          "height": 304
        },
        "id": "1sdd1V0_mu_7",
        "outputId": "9f065701-ca51-4611-d3a1-b1a11c6fbb83"
      },
      "execution_count": 23,
      "outputs": [
        {
          "output_type": "execute_result",
          "data": {
            "text/plain": [
              "Retailer\n",
              "Amazon            77698912.0\n",
              "Foot Locker      220094720.0\n",
              "Kohl's           102114753.0\n",
              "Sports Direct    182470997.0\n",
              "Walmart           74558410.0\n",
              "West Gear        242964333.0\n",
              "Name: Total Sales, dtype: float64"
            ],
            "text/html": [
              "<div>\n",
              "<style scoped>\n",
              "    .dataframe tbody tr th:only-of-type {\n",
              "        vertical-align: middle;\n",
              "    }\n",
              "\n",
              "    .dataframe tbody tr th {\n",
              "        vertical-align: top;\n",
              "    }\n",
              "\n",
              "    .dataframe thead th {\n",
              "        text-align: right;\n",
              "    }\n",
              "</style>\n",
              "<table border=\"1\" class=\"dataframe\">\n",
              "  <thead>\n",
              "    <tr style=\"text-align: right;\">\n",
              "      <th></th>\n",
              "      <th>Total Sales</th>\n",
              "    </tr>\n",
              "    <tr>\n",
              "      <th>Retailer</th>\n",
              "      <th></th>\n",
              "    </tr>\n",
              "  </thead>\n",
              "  <tbody>\n",
              "    <tr>\n",
              "      <th>Amazon</th>\n",
              "      <td>77698912.0</td>\n",
              "    </tr>\n",
              "    <tr>\n",
              "      <th>Foot Locker</th>\n",
              "      <td>220094720.0</td>\n",
              "    </tr>\n",
              "    <tr>\n",
              "      <th>Kohl's</th>\n",
              "      <td>102114753.0</td>\n",
              "    </tr>\n",
              "    <tr>\n",
              "      <th>Sports Direct</th>\n",
              "      <td>182470997.0</td>\n",
              "    </tr>\n",
              "    <tr>\n",
              "      <th>Walmart</th>\n",
              "      <td>74558410.0</td>\n",
              "    </tr>\n",
              "    <tr>\n",
              "      <th>West Gear</th>\n",
              "      <td>242964333.0</td>\n",
              "    </tr>\n",
              "  </tbody>\n",
              "</table>\n",
              "</div><br><label><b>dtype:</b> float64</label>"
            ]
          },
          "metadata": {},
          "execution_count": 23
        }
      ]
    },
    {
      "cell_type": "markdown",
      "source": [
        "Las ventas totales por retailer fueron: Amazon\t77698912.0\n",
        "Foot Locker\t220094720.0\n",
        "Kohl's\t102114753.0\n",
        "Sports Direct\t182470997.0\n",
        "Walmart\t74558410.0\n",
        "West Gear\t242964333.0\n"
      ],
      "metadata": {
        "id": "ECIgEUQpmP5b"
      }
    },
    {
      "cell_type": "markdown",
      "source": [
        "2.1 Cual gue la ganancia operacional total por retailer?"
      ],
      "metadata": {
        "id": "s547mBNpdIQL"
      }
    },
    {
      "cell_type": "code",
      "source": [
        "ganancia_operacional_total = data.groupby('Retailer')['Operating Profit'].sum()"
      ],
      "metadata": {
        "id": "IVNUjHDqdsIG"
      },
      "execution_count": 20,
      "outputs": []
    },
    {
      "cell_type": "code",
      "source": [
        "ganancia_operacional_total"
      ],
      "metadata": {
        "colab": {
          "base_uri": "https://localhost:8080/",
          "height": 304
        },
        "id": "2qlUoxHCmpOD",
        "outputId": "24f2fda9-6ffd-41ce-b2d2-4b312df3d5ae"
      },
      "execution_count": 21,
      "outputs": [
        {
          "output_type": "execute_result",
          "data": {
            "text/plain": [
              "Retailer\n",
              "Amazon           28818503.31\n",
              "Foot Locker      80722124.81\n",
              "Kohl's           36811252.58\n",
              "Sports Direct    74332954.96\n",
              "Walmart          25782052.61\n",
              "West Gear        85667873.18\n",
              "Name: Operating Profit, dtype: float64"
            ],
            "text/html": [
              "<div>\n",
              "<style scoped>\n",
              "    .dataframe tbody tr th:only-of-type {\n",
              "        vertical-align: middle;\n",
              "    }\n",
              "\n",
              "    .dataframe tbody tr th {\n",
              "        vertical-align: top;\n",
              "    }\n",
              "\n",
              "    .dataframe thead th {\n",
              "        text-align: right;\n",
              "    }\n",
              "</style>\n",
              "<table border=\"1\" class=\"dataframe\">\n",
              "  <thead>\n",
              "    <tr style=\"text-align: right;\">\n",
              "      <th></th>\n",
              "      <th>Operating Profit</th>\n",
              "    </tr>\n",
              "    <tr>\n",
              "      <th>Retailer</th>\n",
              "      <th></th>\n",
              "    </tr>\n",
              "  </thead>\n",
              "  <tbody>\n",
              "    <tr>\n",
              "      <th>Amazon</th>\n",
              "      <td>28818503.31</td>\n",
              "    </tr>\n",
              "    <tr>\n",
              "      <th>Foot Locker</th>\n",
              "      <td>80722124.81</td>\n",
              "    </tr>\n",
              "    <tr>\n",
              "      <th>Kohl's</th>\n",
              "      <td>36811252.58</td>\n",
              "    </tr>\n",
              "    <tr>\n",
              "      <th>Sports Direct</th>\n",
              "      <td>74332954.96</td>\n",
              "    </tr>\n",
              "    <tr>\n",
              "      <th>Walmart</th>\n",
              "      <td>25782052.61</td>\n",
              "    </tr>\n",
              "    <tr>\n",
              "      <th>West Gear</th>\n",
              "      <td>85667873.18</td>\n",
              "    </tr>\n",
              "  </tbody>\n",
              "</table>\n",
              "</div><br><label><b>dtype:</b> float64</label>"
            ]
          },
          "metadata": {},
          "execution_count": 21
        }
      ]
    },
    {
      "cell_type": "markdown",
      "source": [
        "2.3 Tomando los dos resultados de arriba: El ganancia operacional total y las ventas totales divida ambos resultados. Le tiene que dar el margen total de cada Retailer. Haga una Grafica de Barras con el resultado."
      ],
      "metadata": {
        "id": "y-zjJuXNgvIH"
      }
    },
    {
      "cell_type": "code",
      "source": [
        "margen_total = ganancia_operacional_total / ventas_totales"
      ],
      "metadata": {
        "id": "vkErr2wxnV37"
      },
      "execution_count": 28,
      "outputs": []
    },
    {
      "cell_type": "code",
      "source": [
        "margen_total*100"
      ],
      "metadata": {
        "colab": {
          "base_uri": "https://localhost:8080/",
          "height": 304
        },
        "id": "NWnqDZ6dnY8D",
        "outputId": "51984c0a-4f24-4d8f-e12c-f378371166bd"
      },
      "execution_count": 38,
      "outputs": [
        {
          "output_type": "execute_result",
          "data": {
            "text/plain": [
              "Retailer\n",
              "Amazon           37.089970\n",
              "Foot Locker      36.676084\n",
              "Kohl's           36.048907\n",
              "Sports Direct    40.736860\n",
              "Walmart          34.579671\n",
              "West Gear        35.259444\n",
              "dtype: float64"
            ],
            "text/html": [
              "<div>\n",
              "<style scoped>\n",
              "    .dataframe tbody tr th:only-of-type {\n",
              "        vertical-align: middle;\n",
              "    }\n",
              "\n",
              "    .dataframe tbody tr th {\n",
              "        vertical-align: top;\n",
              "    }\n",
              "\n",
              "    .dataframe thead th {\n",
              "        text-align: right;\n",
              "    }\n",
              "</style>\n",
              "<table border=\"1\" class=\"dataframe\">\n",
              "  <thead>\n",
              "    <tr style=\"text-align: right;\">\n",
              "      <th></th>\n",
              "      <th>0</th>\n",
              "    </tr>\n",
              "    <tr>\n",
              "      <th>Retailer</th>\n",
              "      <th></th>\n",
              "    </tr>\n",
              "  </thead>\n",
              "  <tbody>\n",
              "    <tr>\n",
              "      <th>Amazon</th>\n",
              "      <td>37.089970</td>\n",
              "    </tr>\n",
              "    <tr>\n",
              "      <th>Foot Locker</th>\n",
              "      <td>36.676084</td>\n",
              "    </tr>\n",
              "    <tr>\n",
              "      <th>Kohl's</th>\n",
              "      <td>36.048907</td>\n",
              "    </tr>\n",
              "    <tr>\n",
              "      <th>Sports Direct</th>\n",
              "      <td>40.736860</td>\n",
              "    </tr>\n",
              "    <tr>\n",
              "      <th>Walmart</th>\n",
              "      <td>34.579671</td>\n",
              "    </tr>\n",
              "    <tr>\n",
              "      <th>West Gear</th>\n",
              "      <td>35.259444</td>\n",
              "    </tr>\n",
              "  </tbody>\n",
              "</table>\n",
              "</div><br><label><b>dtype:</b> float64</label>"
            ]
          },
          "metadata": {},
          "execution_count": 38
        }
      ]
    },
    {
      "cell_type": "markdown",
      "source": [
        "2.4 Cual fue el margen operacional promedio por retailer?"
      ],
      "metadata": {
        "id": "DjsKB3DleGh5"
      }
    },
    {
      "cell_type": "code",
      "source": [
        "data.groupby('Retailer')['Operating Margin'].mean()*100"
      ],
      "metadata": {
        "id": "7bDTruZZdrBm",
        "colab": {
          "base_uri": "https://localhost:8080/",
          "height": 304
        },
        "outputId": "05197e24-eeaf-4925-8a46-42be99afdcfd"
      },
      "execution_count": 30,
      "outputs": [
        {
          "output_type": "execute_result",
          "data": {
            "text/plain": [
              "Retailer\n",
              "Amazon           41.787144\n",
              "Foot Locker      41.793326\n",
              "Kohl's           41.929126\n",
              "Sports Direct    44.489173\n",
              "Walmart          40.653355\n",
              "West Gear        41.785594\n",
              "Name: Operating Margin, dtype: float64"
            ],
            "text/html": [
              "<div>\n",
              "<style scoped>\n",
              "    .dataframe tbody tr th:only-of-type {\n",
              "        vertical-align: middle;\n",
              "    }\n",
              "\n",
              "    .dataframe tbody tr th {\n",
              "        vertical-align: top;\n",
              "    }\n",
              "\n",
              "    .dataframe thead th {\n",
              "        text-align: right;\n",
              "    }\n",
              "</style>\n",
              "<table border=\"1\" class=\"dataframe\">\n",
              "  <thead>\n",
              "    <tr style=\"text-align: right;\">\n",
              "      <th></th>\n",
              "      <th>Operating Margin</th>\n",
              "    </tr>\n",
              "    <tr>\n",
              "      <th>Retailer</th>\n",
              "      <th></th>\n",
              "    </tr>\n",
              "  </thead>\n",
              "  <tbody>\n",
              "    <tr>\n",
              "      <th>Amazon</th>\n",
              "      <td>41.787144</td>\n",
              "    </tr>\n",
              "    <tr>\n",
              "      <th>Foot Locker</th>\n",
              "      <td>41.793326</td>\n",
              "    </tr>\n",
              "    <tr>\n",
              "      <th>Kohl's</th>\n",
              "      <td>41.929126</td>\n",
              "    </tr>\n",
              "    <tr>\n",
              "      <th>Sports Direct</th>\n",
              "      <td>44.489173</td>\n",
              "    </tr>\n",
              "    <tr>\n",
              "      <th>Walmart</th>\n",
              "      <td>40.653355</td>\n",
              "    </tr>\n",
              "    <tr>\n",
              "      <th>West Gear</th>\n",
              "      <td>41.785594</td>\n",
              "    </tr>\n",
              "  </tbody>\n",
              "</table>\n",
              "</div><br><label><b>dtype:</b> float64</label>"
            ]
          },
          "metadata": {},
          "execution_count": 30
        }
      ]
    },
    {
      "cell_type": "markdown",
      "source": [
        "2.5 Por que los dos resultados anteriores le dieron diferente? Argumente"
      ],
      "metadata": {
        "id": "YmJ4OroYhmhE"
      }
    },
    {
      "cell_type": "markdown",
      "source": [
        "porque en el primer resultado tenemos el margen de ganancia operaciona total y el otro el margen de ganancia por ventas."
      ],
      "metadata": {
        "id": "q1tIjtpiniO7"
      }
    },
    {
      "cell_type": "markdown",
      "source": [
        "3.1 Retailer que mas unidades totales vende? Saque cuanto vende en unidades cada retailer y busque el mayor"
      ],
      "metadata": {
        "id": "tP-lnVrqeNid"
      }
    },
    {
      "cell_type": "code",
      "source": [
        "retailer_que_mas_vendio = data.groupby('Retailer')['Units Sold'].sum().sort_values(ascending=False)\n",
        "retailer_que_mas_vendio"
      ],
      "metadata": {
        "id": "EtVwdVDDeQGi",
        "colab": {
          "base_uri": "https://localhost:8080/",
          "height": 304
        },
        "outputId": "bb3ac5f9-af89-4b2d-ca5e-316bf72c6f41"
      },
      "execution_count": 42,
      "outputs": [
        {
          "output_type": "execute_result",
          "data": {
            "text/plain": [
              "Retailer\n",
              "West Gear        625262\n",
              "Foot Locker      604369\n",
              "Sports Direct    557640\n",
              "Kohl's           287375\n",
              "Walmart          206225\n",
              "Amazon           197990\n",
              "Name: Units Sold, dtype: int64"
            ],
            "text/html": [
              "<div>\n",
              "<style scoped>\n",
              "    .dataframe tbody tr th:only-of-type {\n",
              "        vertical-align: middle;\n",
              "    }\n",
              "\n",
              "    .dataframe tbody tr th {\n",
              "        vertical-align: top;\n",
              "    }\n",
              "\n",
              "    .dataframe thead th {\n",
              "        text-align: right;\n",
              "    }\n",
              "</style>\n",
              "<table border=\"1\" class=\"dataframe\">\n",
              "  <thead>\n",
              "    <tr style=\"text-align: right;\">\n",
              "      <th></th>\n",
              "      <th>Units Sold</th>\n",
              "    </tr>\n",
              "    <tr>\n",
              "      <th>Retailer</th>\n",
              "      <th></th>\n",
              "    </tr>\n",
              "  </thead>\n",
              "  <tbody>\n",
              "    <tr>\n",
              "      <th>West Gear</th>\n",
              "      <td>625262</td>\n",
              "    </tr>\n",
              "    <tr>\n",
              "      <th>Foot Locker</th>\n",
              "      <td>604369</td>\n",
              "    </tr>\n",
              "    <tr>\n",
              "      <th>Sports Direct</th>\n",
              "      <td>557640</td>\n",
              "    </tr>\n",
              "    <tr>\n",
              "      <th>Kohl's</th>\n",
              "      <td>287375</td>\n",
              "    </tr>\n",
              "    <tr>\n",
              "      <th>Walmart</th>\n",
              "      <td>206225</td>\n",
              "    </tr>\n",
              "    <tr>\n",
              "      <th>Amazon</th>\n",
              "      <td>197990</td>\n",
              "    </tr>\n",
              "  </tbody>\n",
              "</table>\n",
              "</div><br><label><b>dtype:</b> int64</label>"
            ]
          },
          "metadata": {},
          "execution_count": 42
        }
      ]
    },
    {
      "cell_type": "markdown",
      "source": [
        "El retailer que más vende es West Gear"
      ],
      "metadata": {
        "id": "B0FqcPrKn6JD"
      }
    },
    {
      "cell_type": "markdown",
      "source": [
        "3.2 Cual fue el producto que mas unidades totales vendió?"
      ],
      "metadata": {
        "id": "R6AjU01lgeq9"
      }
    },
    {
      "cell_type": "code",
      "source": [
        "producto_que_se_vendio_mas = data.groupby('Product')['Units Sold'].sum().sort_values(ascending=False)\n",
        "producto_que_se_vendio_mas"
      ],
      "metadata": {
        "id": "NgwCc3JAe_6L",
        "colab": {
          "base_uri": "https://localhost:8080/",
          "height": 304
        },
        "outputId": "e6d2b0c9-8b45-4955-e2cf-5d9c7406becc"
      },
      "execution_count": 45,
      "outputs": [
        {
          "output_type": "execute_result",
          "data": {
            "text/plain": [
              "Product\n",
              "Men's Street Footwear        593320\n",
              "Men's Athletic Footwear      435526\n",
              "Women's Apparel              433827\n",
              "Women's Street Footwear      392269\n",
              "Women's Athletic Footwear    317236\n",
              "Men's Apparel                306683\n",
              "Name: Units Sold, dtype: int64"
            ],
            "text/html": [
              "<div>\n",
              "<style scoped>\n",
              "    .dataframe tbody tr th:only-of-type {\n",
              "        vertical-align: middle;\n",
              "    }\n",
              "\n",
              "    .dataframe tbody tr th {\n",
              "        vertical-align: top;\n",
              "    }\n",
              "\n",
              "    .dataframe thead th {\n",
              "        text-align: right;\n",
              "    }\n",
              "</style>\n",
              "<table border=\"1\" class=\"dataframe\">\n",
              "  <thead>\n",
              "    <tr style=\"text-align: right;\">\n",
              "      <th></th>\n",
              "      <th>Units Sold</th>\n",
              "    </tr>\n",
              "    <tr>\n",
              "      <th>Product</th>\n",
              "      <th></th>\n",
              "    </tr>\n",
              "  </thead>\n",
              "  <tbody>\n",
              "    <tr>\n",
              "      <th>Men's Street Footwear</th>\n",
              "      <td>593320</td>\n",
              "    </tr>\n",
              "    <tr>\n",
              "      <th>Men's Athletic Footwear</th>\n",
              "      <td>435526</td>\n",
              "    </tr>\n",
              "    <tr>\n",
              "      <th>Women's Apparel</th>\n",
              "      <td>433827</td>\n",
              "    </tr>\n",
              "    <tr>\n",
              "      <th>Women's Street Footwear</th>\n",
              "      <td>392269</td>\n",
              "    </tr>\n",
              "    <tr>\n",
              "      <th>Women's Athletic Footwear</th>\n",
              "      <td>317236</td>\n",
              "    </tr>\n",
              "    <tr>\n",
              "      <th>Men's Apparel</th>\n",
              "      <td>306683</td>\n",
              "    </tr>\n",
              "  </tbody>\n",
              "</table>\n",
              "</div><br><label><b>dtype:</b> int64</label>"
            ]
          },
          "metadata": {},
          "execution_count": 45
        }
      ]
    },
    {
      "cell_type": "markdown",
      "source": [
        "El producto que más unidades totales vendió fue Men's Street Footwear\tfue 593320"
      ],
      "metadata": {
        "id": "WWqM7WscoVcT"
      }
    },
    {
      "cell_type": "markdown",
      "source": [
        "3.3 Cual es el metodo de venta que mas ventas totales tuvo y más ventas promedio"
      ],
      "metadata": {
        "id": "AcwamUt_gUtH"
      }
    },
    {
      "cell_type": "code",
      "source": [
        "metodo_de_ventas_que_mas_vendio = data.groupby('Sales Method')['Total Sales'].sum().sort_values(ascending=False)\n",
        "metodo_de_ventas_que_mas_vendio"
      ],
      "metadata": {
        "id": "n2MXmpekfKZH",
        "colab": {
          "base_uri": "https://localhost:8080/",
          "height": 210
        },
        "outputId": "59919e65-2bb9-4324-d885-427f7ca93941"
      },
      "execution_count": 46,
      "outputs": [
        {
          "output_type": "execute_result",
          "data": {
            "text/plain": [
              "Sales Method\n",
              "In-store    356643750.0\n",
              "Outlet      295585493.0\n",
              "Online      247672882.0\n",
              "Name: Total Sales, dtype: float64"
            ],
            "text/html": [
              "<div>\n",
              "<style scoped>\n",
              "    .dataframe tbody tr th:only-of-type {\n",
              "        vertical-align: middle;\n",
              "    }\n",
              "\n",
              "    .dataframe tbody tr th {\n",
              "        vertical-align: top;\n",
              "    }\n",
              "\n",
              "    .dataframe thead th {\n",
              "        text-align: right;\n",
              "    }\n",
              "</style>\n",
              "<table border=\"1\" class=\"dataframe\">\n",
              "  <thead>\n",
              "    <tr style=\"text-align: right;\">\n",
              "      <th></th>\n",
              "      <th>Total Sales</th>\n",
              "    </tr>\n",
              "    <tr>\n",
              "      <th>Sales Method</th>\n",
              "      <th></th>\n",
              "    </tr>\n",
              "  </thead>\n",
              "  <tbody>\n",
              "    <tr>\n",
              "      <th>In-store</th>\n",
              "      <td>356643750.0</td>\n",
              "    </tr>\n",
              "    <tr>\n",
              "      <th>Outlet</th>\n",
              "      <td>295585493.0</td>\n",
              "    </tr>\n",
              "    <tr>\n",
              "      <th>Online</th>\n",
              "      <td>247672882.0</td>\n",
              "    </tr>\n",
              "  </tbody>\n",
              "</table>\n",
              "</div><br><label><b>dtype:</b> float64</label>"
            ]
          },
          "metadata": {},
          "execution_count": 46
        }
      ]
    },
    {
      "cell_type": "markdown",
      "source": [
        "el metodo de venta que mas ventas totales tuvo fue In-store\t356643750.0"
      ],
      "metadata": {
        "id": "9laFMbYdo4w-"
      }
    },
    {
      "cell_type": "code",
      "source": [
        "data.groupby('Sales Method')['Total Sales'].mean().sort_values(ascending=False)*100"
      ],
      "metadata": {
        "colab": {
          "base_uri": "https://localhost:8080/",
          "height": 210
        },
        "id": "GCCpM4ROomXL",
        "outputId": "d9c107db-c258-4bc9-d21a-359c5b9f7180"
      },
      "execution_count": 36,
      "outputs": [
        {
          "output_type": "execute_result",
          "data": {
            "text/plain": [
              "Sales Method\n",
              "In-store    2.049677e+07\n",
              "Outlet      9.790841e+06\n",
              "Online      5.065921e+06\n",
              "Name: Total Sales, dtype: float64"
            ],
            "text/html": [
              "<div>\n",
              "<style scoped>\n",
              "    .dataframe tbody tr th:only-of-type {\n",
              "        vertical-align: middle;\n",
              "    }\n",
              "\n",
              "    .dataframe tbody tr th {\n",
              "        vertical-align: top;\n",
              "    }\n",
              "\n",
              "    .dataframe thead th {\n",
              "        text-align: right;\n",
              "    }\n",
              "</style>\n",
              "<table border=\"1\" class=\"dataframe\">\n",
              "  <thead>\n",
              "    <tr style=\"text-align: right;\">\n",
              "      <th></th>\n",
              "      <th>Total Sales</th>\n",
              "    </tr>\n",
              "    <tr>\n",
              "      <th>Sales Method</th>\n",
              "      <th></th>\n",
              "    </tr>\n",
              "  </thead>\n",
              "  <tbody>\n",
              "    <tr>\n",
              "      <th>In-store</th>\n",
              "      <td>2.049677e+07</td>\n",
              "    </tr>\n",
              "    <tr>\n",
              "      <th>Outlet</th>\n",
              "      <td>9.790841e+06</td>\n",
              "    </tr>\n",
              "    <tr>\n",
              "      <th>Online</th>\n",
              "      <td>5.065921e+06</td>\n",
              "    </tr>\n",
              "  </tbody>\n",
              "</table>\n",
              "</div><br><label><b>dtype:</b> float64</label>"
            ]
          },
          "metadata": {},
          "execution_count": 36
        }
      ]
    },
    {
      "cell_type": "markdown",
      "source": [
        "el metodo de venta promedio tuvo In-store\t2%"
      ],
      "metadata": {
        "id": "q_4hPuNaj_mD"
      }
    },
    {
      "cell_type": "markdown",
      "source": [
        "3.4 Cual Fue el estado que más ventas totales tuvo ?"
      ],
      "metadata": {
        "id": "e7FNpAd5ilp5"
      }
    },
    {
      "cell_type": "code",
      "source": [
        "Estado_que_mas_vendio = data.groupby('State')['Total Sales'].sum().sort_values(ascending=False).head(5)\n",
        "Estado_que_mas_vendio"
      ],
      "metadata": {
        "id": "JKcFXeKHip-V",
        "colab": {
          "base_uri": "https://localhost:8080/",
          "height": 272
        },
        "outputId": "1c7a1428-1aca-4b0b-e705-0e8dec07a51b"
      },
      "execution_count": 43,
      "outputs": [
        {
          "output_type": "execute_result",
          "data": {
            "text/plain": [
              "State\n",
              "New York          64229039.0\n",
              "California        60174133.0\n",
              "Florida           59283714.0\n",
              "Texas             46359746.0\n",
              "South Carolina    29285637.0\n",
              "Name: Total Sales, dtype: float64"
            ],
            "text/html": [
              "<div>\n",
              "<style scoped>\n",
              "    .dataframe tbody tr th:only-of-type {\n",
              "        vertical-align: middle;\n",
              "    }\n",
              "\n",
              "    .dataframe tbody tr th {\n",
              "        vertical-align: top;\n",
              "    }\n",
              "\n",
              "    .dataframe thead th {\n",
              "        text-align: right;\n",
              "    }\n",
              "</style>\n",
              "<table border=\"1\" class=\"dataframe\">\n",
              "  <thead>\n",
              "    <tr style=\"text-align: right;\">\n",
              "      <th></th>\n",
              "      <th>Total Sales</th>\n",
              "    </tr>\n",
              "    <tr>\n",
              "      <th>State</th>\n",
              "      <th></th>\n",
              "    </tr>\n",
              "  </thead>\n",
              "  <tbody>\n",
              "    <tr>\n",
              "      <th>New York</th>\n",
              "      <td>64229039.0</td>\n",
              "    </tr>\n",
              "    <tr>\n",
              "      <th>California</th>\n",
              "      <td>60174133.0</td>\n",
              "    </tr>\n",
              "    <tr>\n",
              "      <th>Florida</th>\n",
              "      <td>59283714.0</td>\n",
              "    </tr>\n",
              "    <tr>\n",
              "      <th>Texas</th>\n",
              "      <td>46359746.0</td>\n",
              "    </tr>\n",
              "    <tr>\n",
              "      <th>South Carolina</th>\n",
              "      <td>29285637.0</td>\n",
              "    </tr>\n",
              "  </tbody>\n",
              "</table>\n",
              "</div><br><label><b>dtype:</b> float64</label>"
            ]
          },
          "metadata": {},
          "execution_count": 43
        }
      ]
    },
    {
      "cell_type": "markdown",
      "source": [
        "El estado que mas ventas totales tuvo fue New York con 64.299.039 ventas"
      ],
      "metadata": {
        "id": "2yQ0avqKqLpy"
      }
    },
    {
      "cell_type": "markdown",
      "source": [
        "4. Teniendo en cuenta los resultados de arriba: 1. Tome el Retailer que vendio\n",
        "mas 2. El estado que vendio mas 3.el producto que vendio mas y el metodo de ventas que vendio más 4. Filtre y genere un dataframe con ellos 5. llamelo como un nuevo dataframe"
      ],
      "metadata": {
        "id": "shW2W9ugfJkf"
      }
    },
    {
      "cell_type": "code",
      "source": [
        "nuevo_dataframe = data[(data['Retailer'] == 'West Gear') & (data['State'] == 'New York') & (data['Product'] == 'Men\\'s Street Footwear') & (data['Sales Method'] == 'In-store')]\n",
        "nuevo_dataframe"
      ],
      "metadata": {
        "id": "0GDnp-AjiI7q",
        "colab": {
          "base_uri": "https://localhost:8080/",
          "height": 363
        },
        "outputId": "3c53402b-f4d1-48b2-a0db-e303427c24d4"
      },
      "execution_count": 51,
      "outputs": [
        {
          "output_type": "execute_result",
          "data": {
            "text/plain": [
              "       Retailer  Retailer ID Invoice Date     Region     State    City  \\\n",
              "1443  West Gear      1185732   2021-03-08  Northeast  New York  Albany   \n",
              "1449  West Gear      1185732   2021-04-09  Northeast  New York  Albany   \n",
              "1455  West Gear      1185732   2021-05-08  Northeast  New York  Albany   \n",
              "1461  West Gear      1185732   2021-06-10  Northeast  New York  Albany   \n",
              "1467  West Gear      1185732   2021-07-08  Northeast  New York  Albany   \n",
              "1473  West Gear      1185732   2021-08-09  Northeast  New York  Albany   \n",
              "1479  West Gear      1185732   2021-09-08  Northeast  New York  Albany   \n",
              "1485  West Gear      1185732   2021-10-10  Northeast  New York  Albany   \n",
              "1491  West Gear      1185732   2021-11-09  Northeast  New York  Albany   \n",
              "1497  West Gear      1185732   2021-12-08  Northeast  New York  Albany   \n",
              "\n",
              "                    Product  Price per Unit  Units Sold  Total Sales  \\\n",
              "1443  Men's Street Footwear            45.0         870     391500.0   \n",
              "1449  Men's Street Footwear            45.0         825     371250.0   \n",
              "1455  Men's Street Footwear            55.0         870     478500.0   \n",
              "1461  Men's Street Footwear            60.0         875     525000.0   \n",
              "1467  Men's Street Footwear            65.0         950     617500.0   \n",
              "1473  Men's Street Footwear            65.0         925     601250.0   \n",
              "1479  Men's Street Footwear            55.0         850     467500.0   \n",
              "1485  Men's Street Footwear            60.0         800     480000.0   \n",
              "1491  Men's Street Footwear            60.0         775     465000.0   \n",
              "1497  Men's Street Footwear            65.0         875     568750.0   \n",
              "\n",
              "      Operating Profit  Operating Margin Sales Method  \n",
              "1443          176175.0              0.45     In-store  \n",
              "1449          167062.5              0.45     In-store  \n",
              "1455          215325.0              0.45     In-store  \n",
              "1461          236250.0              0.45     In-store  \n",
              "1467          277875.0              0.45     In-store  \n",
              "1473          270562.5              0.45     In-store  \n",
              "1479          210375.0              0.45     In-store  \n",
              "1485          216000.0              0.45     In-store  \n",
              "1491          209250.0              0.45     In-store  \n",
              "1497          255937.5              0.45     In-store  "
            ],
            "text/html": [
              "\n",
              "  <div id=\"df-971106e3-7a75-419c-aee9-f1cd2d86d326\" class=\"colab-df-container\">\n",
              "    <div>\n",
              "<style scoped>\n",
              "    .dataframe tbody tr th:only-of-type {\n",
              "        vertical-align: middle;\n",
              "    }\n",
              "\n",
              "    .dataframe tbody tr th {\n",
              "        vertical-align: top;\n",
              "    }\n",
              "\n",
              "    .dataframe thead th {\n",
              "        text-align: right;\n",
              "    }\n",
              "</style>\n",
              "<table border=\"1\" class=\"dataframe\">\n",
              "  <thead>\n",
              "    <tr style=\"text-align: right;\">\n",
              "      <th></th>\n",
              "      <th>Retailer</th>\n",
              "      <th>Retailer ID</th>\n",
              "      <th>Invoice Date</th>\n",
              "      <th>Region</th>\n",
              "      <th>State</th>\n",
              "      <th>City</th>\n",
              "      <th>Product</th>\n",
              "      <th>Price per Unit</th>\n",
              "      <th>Units Sold</th>\n",
              "      <th>Total Sales</th>\n",
              "      <th>Operating Profit</th>\n",
              "      <th>Operating Margin</th>\n",
              "      <th>Sales Method</th>\n",
              "    </tr>\n",
              "  </thead>\n",
              "  <tbody>\n",
              "    <tr>\n",
              "      <th>1443</th>\n",
              "      <td>West Gear</td>\n",
              "      <td>1185732</td>\n",
              "      <td>2021-03-08</td>\n",
              "      <td>Northeast</td>\n",
              "      <td>New York</td>\n",
              "      <td>Albany</td>\n",
              "      <td>Men's Street Footwear</td>\n",
              "      <td>45.0</td>\n",
              "      <td>870</td>\n",
              "      <td>391500.0</td>\n",
              "      <td>176175.0</td>\n",
              "      <td>0.45</td>\n",
              "      <td>In-store</td>\n",
              "    </tr>\n",
              "    <tr>\n",
              "      <th>1449</th>\n",
              "      <td>West Gear</td>\n",
              "      <td>1185732</td>\n",
              "      <td>2021-04-09</td>\n",
              "      <td>Northeast</td>\n",
              "      <td>New York</td>\n",
              "      <td>Albany</td>\n",
              "      <td>Men's Street Footwear</td>\n",
              "      <td>45.0</td>\n",
              "      <td>825</td>\n",
              "      <td>371250.0</td>\n",
              "      <td>167062.5</td>\n",
              "      <td>0.45</td>\n",
              "      <td>In-store</td>\n",
              "    </tr>\n",
              "    <tr>\n",
              "      <th>1455</th>\n",
              "      <td>West Gear</td>\n",
              "      <td>1185732</td>\n",
              "      <td>2021-05-08</td>\n",
              "      <td>Northeast</td>\n",
              "      <td>New York</td>\n",
              "      <td>Albany</td>\n",
              "      <td>Men's Street Footwear</td>\n",
              "      <td>55.0</td>\n",
              "      <td>870</td>\n",
              "      <td>478500.0</td>\n",
              "      <td>215325.0</td>\n",
              "      <td>0.45</td>\n",
              "      <td>In-store</td>\n",
              "    </tr>\n",
              "    <tr>\n",
              "      <th>1461</th>\n",
              "      <td>West Gear</td>\n",
              "      <td>1185732</td>\n",
              "      <td>2021-06-10</td>\n",
              "      <td>Northeast</td>\n",
              "      <td>New York</td>\n",
              "      <td>Albany</td>\n",
              "      <td>Men's Street Footwear</td>\n",
              "      <td>60.0</td>\n",
              "      <td>875</td>\n",
              "      <td>525000.0</td>\n",
              "      <td>236250.0</td>\n",
              "      <td>0.45</td>\n",
              "      <td>In-store</td>\n",
              "    </tr>\n",
              "    <tr>\n",
              "      <th>1467</th>\n",
              "      <td>West Gear</td>\n",
              "      <td>1185732</td>\n",
              "      <td>2021-07-08</td>\n",
              "      <td>Northeast</td>\n",
              "      <td>New York</td>\n",
              "      <td>Albany</td>\n",
              "      <td>Men's Street Footwear</td>\n",
              "      <td>65.0</td>\n",
              "      <td>950</td>\n",
              "      <td>617500.0</td>\n",
              "      <td>277875.0</td>\n",
              "      <td>0.45</td>\n",
              "      <td>In-store</td>\n",
              "    </tr>\n",
              "    <tr>\n",
              "      <th>1473</th>\n",
              "      <td>West Gear</td>\n",
              "      <td>1185732</td>\n",
              "      <td>2021-08-09</td>\n",
              "      <td>Northeast</td>\n",
              "      <td>New York</td>\n",
              "      <td>Albany</td>\n",
              "      <td>Men's Street Footwear</td>\n",
              "      <td>65.0</td>\n",
              "      <td>925</td>\n",
              "      <td>601250.0</td>\n",
              "      <td>270562.5</td>\n",
              "      <td>0.45</td>\n",
              "      <td>In-store</td>\n",
              "    </tr>\n",
              "    <tr>\n",
              "      <th>1479</th>\n",
              "      <td>West Gear</td>\n",
              "      <td>1185732</td>\n",
              "      <td>2021-09-08</td>\n",
              "      <td>Northeast</td>\n",
              "      <td>New York</td>\n",
              "      <td>Albany</td>\n",
              "      <td>Men's Street Footwear</td>\n",
              "      <td>55.0</td>\n",
              "      <td>850</td>\n",
              "      <td>467500.0</td>\n",
              "      <td>210375.0</td>\n",
              "      <td>0.45</td>\n",
              "      <td>In-store</td>\n",
              "    </tr>\n",
              "    <tr>\n",
              "      <th>1485</th>\n",
              "      <td>West Gear</td>\n",
              "      <td>1185732</td>\n",
              "      <td>2021-10-10</td>\n",
              "      <td>Northeast</td>\n",
              "      <td>New York</td>\n",
              "      <td>Albany</td>\n",
              "      <td>Men's Street Footwear</td>\n",
              "      <td>60.0</td>\n",
              "      <td>800</td>\n",
              "      <td>480000.0</td>\n",
              "      <td>216000.0</td>\n",
              "      <td>0.45</td>\n",
              "      <td>In-store</td>\n",
              "    </tr>\n",
              "    <tr>\n",
              "      <th>1491</th>\n",
              "      <td>West Gear</td>\n",
              "      <td>1185732</td>\n",
              "      <td>2021-11-09</td>\n",
              "      <td>Northeast</td>\n",
              "      <td>New York</td>\n",
              "      <td>Albany</td>\n",
              "      <td>Men's Street Footwear</td>\n",
              "      <td>60.0</td>\n",
              "      <td>775</td>\n",
              "      <td>465000.0</td>\n",
              "      <td>209250.0</td>\n",
              "      <td>0.45</td>\n",
              "      <td>In-store</td>\n",
              "    </tr>\n",
              "    <tr>\n",
              "      <th>1497</th>\n",
              "      <td>West Gear</td>\n",
              "      <td>1185732</td>\n",
              "      <td>2021-12-08</td>\n",
              "      <td>Northeast</td>\n",
              "      <td>New York</td>\n",
              "      <td>Albany</td>\n",
              "      <td>Men's Street Footwear</td>\n",
              "      <td>65.0</td>\n",
              "      <td>875</td>\n",
              "      <td>568750.0</td>\n",
              "      <td>255937.5</td>\n",
              "      <td>0.45</td>\n",
              "      <td>In-store</td>\n",
              "    </tr>\n",
              "  </tbody>\n",
              "</table>\n",
              "</div>\n",
              "    <div class=\"colab-df-buttons\">\n",
              "\n",
              "  <div class=\"colab-df-container\">\n",
              "    <button class=\"colab-df-convert\" onclick=\"convertToInteractive('df-971106e3-7a75-419c-aee9-f1cd2d86d326')\"\n",
              "            title=\"Convert this dataframe to an interactive table.\"\n",
              "            style=\"display:none;\">\n",
              "\n",
              "  <svg xmlns=\"http://www.w3.org/2000/svg\" height=\"24px\" viewBox=\"0 -960 960 960\">\n",
              "    <path d=\"M120-120v-720h720v720H120Zm60-500h600v-160H180v160Zm220 220h160v-160H400v160Zm0 220h160v-160H400v160ZM180-400h160v-160H180v160Zm440 0h160v-160H620v160ZM180-180h160v-160H180v160Zm440 0h160v-160H620v160Z\"/>\n",
              "  </svg>\n",
              "    </button>\n",
              "\n",
              "  <style>\n",
              "    .colab-df-container {\n",
              "      display:flex;\n",
              "      gap: 12px;\n",
              "    }\n",
              "\n",
              "    .colab-df-convert {\n",
              "      background-color: #E8F0FE;\n",
              "      border: none;\n",
              "      border-radius: 50%;\n",
              "      cursor: pointer;\n",
              "      display: none;\n",
              "      fill: #1967D2;\n",
              "      height: 32px;\n",
              "      padding: 0 0 0 0;\n",
              "      width: 32px;\n",
              "    }\n",
              "\n",
              "    .colab-df-convert:hover {\n",
              "      background-color: #E2EBFA;\n",
              "      box-shadow: 0px 1px 2px rgba(60, 64, 67, 0.3), 0px 1px 3px 1px rgba(60, 64, 67, 0.15);\n",
              "      fill: #174EA6;\n",
              "    }\n",
              "\n",
              "    .colab-df-buttons div {\n",
              "      margin-bottom: 4px;\n",
              "    }\n",
              "\n",
              "    [theme=dark] .colab-df-convert {\n",
              "      background-color: #3B4455;\n",
              "      fill: #D2E3FC;\n",
              "    }\n",
              "\n",
              "    [theme=dark] .colab-df-convert:hover {\n",
              "      background-color: #434B5C;\n",
              "      box-shadow: 0px 1px 3px 1px rgba(0, 0, 0, 0.15);\n",
              "      filter: drop-shadow(0px 1px 2px rgba(0, 0, 0, 0.3));\n",
              "      fill: #FFFFFF;\n",
              "    }\n",
              "  </style>\n",
              "\n",
              "    <script>\n",
              "      const buttonEl =\n",
              "        document.querySelector('#df-971106e3-7a75-419c-aee9-f1cd2d86d326 button.colab-df-convert');\n",
              "      buttonEl.style.display =\n",
              "        google.colab.kernel.accessAllowed ? 'block' : 'none';\n",
              "\n",
              "      async function convertToInteractive(key) {\n",
              "        const element = document.querySelector('#df-971106e3-7a75-419c-aee9-f1cd2d86d326');\n",
              "        const dataTable =\n",
              "          await google.colab.kernel.invokeFunction('convertToInteractive',\n",
              "                                                    [key], {});\n",
              "        if (!dataTable) return;\n",
              "\n",
              "        const docLinkHtml = 'Like what you see? Visit the ' +\n",
              "          '<a target=\"_blank\" href=https://colab.research.google.com/notebooks/data_table.ipynb>data table notebook</a>'\n",
              "          + ' to learn more about interactive tables.';\n",
              "        element.innerHTML = '';\n",
              "        dataTable['output_type'] = 'display_data';\n",
              "        await google.colab.output.renderOutput(dataTable, element);\n",
              "        const docLink = document.createElement('div');\n",
              "        docLink.innerHTML = docLinkHtml;\n",
              "        element.appendChild(docLink);\n",
              "      }\n",
              "    </script>\n",
              "  </div>\n",
              "\n",
              "\n",
              "    <div id=\"df-df48e1a5-7876-44af-a90f-e6b6c394e6e9\">\n",
              "      <button class=\"colab-df-quickchart\" onclick=\"quickchart('df-df48e1a5-7876-44af-a90f-e6b6c394e6e9')\"\n",
              "                title=\"Suggest charts\"\n",
              "                style=\"display:none;\">\n",
              "\n",
              "<svg xmlns=\"http://www.w3.org/2000/svg\" height=\"24px\"viewBox=\"0 0 24 24\"\n",
              "     width=\"24px\">\n",
              "    <g>\n",
              "        <path d=\"M19 3H5c-1.1 0-2 .9-2 2v14c0 1.1.9 2 2 2h14c1.1 0 2-.9 2-2V5c0-1.1-.9-2-2-2zM9 17H7v-7h2v7zm4 0h-2V7h2v10zm4 0h-2v-4h2v4z\"/>\n",
              "    </g>\n",
              "</svg>\n",
              "      </button>\n",
              "\n",
              "<style>\n",
              "  .colab-df-quickchart {\n",
              "      --bg-color: #E8F0FE;\n",
              "      --fill-color: #1967D2;\n",
              "      --hover-bg-color: #E2EBFA;\n",
              "      --hover-fill-color: #174EA6;\n",
              "      --disabled-fill-color: #AAA;\n",
              "      --disabled-bg-color: #DDD;\n",
              "  }\n",
              "\n",
              "  [theme=dark] .colab-df-quickchart {\n",
              "      --bg-color: #3B4455;\n",
              "      --fill-color: #D2E3FC;\n",
              "      --hover-bg-color: #434B5C;\n",
              "      --hover-fill-color: #FFFFFF;\n",
              "      --disabled-bg-color: #3B4455;\n",
              "      --disabled-fill-color: #666;\n",
              "  }\n",
              "\n",
              "  .colab-df-quickchart {\n",
              "    background-color: var(--bg-color);\n",
              "    border: none;\n",
              "    border-radius: 50%;\n",
              "    cursor: pointer;\n",
              "    display: none;\n",
              "    fill: var(--fill-color);\n",
              "    height: 32px;\n",
              "    padding: 0;\n",
              "    width: 32px;\n",
              "  }\n",
              "\n",
              "  .colab-df-quickchart:hover {\n",
              "    background-color: var(--hover-bg-color);\n",
              "    box-shadow: 0 1px 2px rgba(60, 64, 67, 0.3), 0 1px 3px 1px rgba(60, 64, 67, 0.15);\n",
              "    fill: var(--button-hover-fill-color);\n",
              "  }\n",
              "\n",
              "  .colab-df-quickchart-complete:disabled,\n",
              "  .colab-df-quickchart-complete:disabled:hover {\n",
              "    background-color: var(--disabled-bg-color);\n",
              "    fill: var(--disabled-fill-color);\n",
              "    box-shadow: none;\n",
              "  }\n",
              "\n",
              "  .colab-df-spinner {\n",
              "    border: 2px solid var(--fill-color);\n",
              "    border-color: transparent;\n",
              "    border-bottom-color: var(--fill-color);\n",
              "    animation:\n",
              "      spin 1s steps(1) infinite;\n",
              "  }\n",
              "\n",
              "  @keyframes spin {\n",
              "    0% {\n",
              "      border-color: transparent;\n",
              "      border-bottom-color: var(--fill-color);\n",
              "      border-left-color: var(--fill-color);\n",
              "    }\n",
              "    20% {\n",
              "      border-color: transparent;\n",
              "      border-left-color: var(--fill-color);\n",
              "      border-top-color: var(--fill-color);\n",
              "    }\n",
              "    30% {\n",
              "      border-color: transparent;\n",
              "      border-left-color: var(--fill-color);\n",
              "      border-top-color: var(--fill-color);\n",
              "      border-right-color: var(--fill-color);\n",
              "    }\n",
              "    40% {\n",
              "      border-color: transparent;\n",
              "      border-right-color: var(--fill-color);\n",
              "      border-top-color: var(--fill-color);\n",
              "    }\n",
              "    60% {\n",
              "      border-color: transparent;\n",
              "      border-right-color: var(--fill-color);\n",
              "    }\n",
              "    80% {\n",
              "      border-color: transparent;\n",
              "      border-right-color: var(--fill-color);\n",
              "      border-bottom-color: var(--fill-color);\n",
              "    }\n",
              "    90% {\n",
              "      border-color: transparent;\n",
              "      border-bottom-color: var(--fill-color);\n",
              "    }\n",
              "  }\n",
              "</style>\n",
              "\n",
              "      <script>\n",
              "        async function quickchart(key) {\n",
              "          const quickchartButtonEl =\n",
              "            document.querySelector('#' + key + ' button');\n",
              "          quickchartButtonEl.disabled = true;  // To prevent multiple clicks.\n",
              "          quickchartButtonEl.classList.add('colab-df-spinner');\n",
              "          try {\n",
              "            const charts = await google.colab.kernel.invokeFunction(\n",
              "                'suggestCharts', [key], {});\n",
              "          } catch (error) {\n",
              "            console.error('Error during call to suggestCharts:', error);\n",
              "          }\n",
              "          quickchartButtonEl.classList.remove('colab-df-spinner');\n",
              "          quickchartButtonEl.classList.add('colab-df-quickchart-complete');\n",
              "        }\n",
              "        (() => {\n",
              "          let quickchartButtonEl =\n",
              "            document.querySelector('#df-df48e1a5-7876-44af-a90f-e6b6c394e6e9 button');\n",
              "          quickchartButtonEl.style.display =\n",
              "            google.colab.kernel.accessAllowed ? 'block' : 'none';\n",
              "        })();\n",
              "      </script>\n",
              "    </div>\n",
              "\n",
              "  <div id=\"id_866f58dc-1d72-445d-bbff-15c7eb374911\">\n",
              "    <style>\n",
              "      .colab-df-generate {\n",
              "        background-color: #E8F0FE;\n",
              "        border: none;\n",
              "        border-radius: 50%;\n",
              "        cursor: pointer;\n",
              "        display: none;\n",
              "        fill: #1967D2;\n",
              "        height: 32px;\n",
              "        padding: 0 0 0 0;\n",
              "        width: 32px;\n",
              "      }\n",
              "\n",
              "      .colab-df-generate:hover {\n",
              "        background-color: #E2EBFA;\n",
              "        box-shadow: 0px 1px 2px rgba(60, 64, 67, 0.3), 0px 1px 3px 1px rgba(60, 64, 67, 0.15);\n",
              "        fill: #174EA6;\n",
              "      }\n",
              "\n",
              "      [theme=dark] .colab-df-generate {\n",
              "        background-color: #3B4455;\n",
              "        fill: #D2E3FC;\n",
              "      }\n",
              "\n",
              "      [theme=dark] .colab-df-generate:hover {\n",
              "        background-color: #434B5C;\n",
              "        box-shadow: 0px 1px 3px 1px rgba(0, 0, 0, 0.15);\n",
              "        filter: drop-shadow(0px 1px 2px rgba(0, 0, 0, 0.3));\n",
              "        fill: #FFFFFF;\n",
              "      }\n",
              "    </style>\n",
              "    <button class=\"colab-df-generate\" onclick=\"generateWithVariable('nuevo_dataframe')\"\n",
              "            title=\"Generate code using this dataframe.\"\n",
              "            style=\"display:none;\">\n",
              "\n",
              "  <svg xmlns=\"http://www.w3.org/2000/svg\" height=\"24px\"viewBox=\"0 0 24 24\"\n",
              "       width=\"24px\">\n",
              "    <path d=\"M7,19H8.4L18.45,9,17,7.55,7,17.6ZM5,21V16.75L18.45,3.32a2,2,0,0,1,2.83,0l1.4,1.43a1.91,1.91,0,0,1,.58,1.4,1.91,1.91,0,0,1-.58,1.4L9.25,21ZM18.45,9,17,7.55Zm-12,3A5.31,5.31,0,0,0,4.9,8.1,5.31,5.31,0,0,0,1,6.5,5.31,5.31,0,0,0,4.9,4.9,5.31,5.31,0,0,0,6.5,1,5.31,5.31,0,0,0,8.1,4.9,5.31,5.31,0,0,0,12,6.5,5.46,5.46,0,0,0,6.5,12Z\"/>\n",
              "  </svg>\n",
              "    </button>\n",
              "    <script>\n",
              "      (() => {\n",
              "      const buttonEl =\n",
              "        document.querySelector('#id_866f58dc-1d72-445d-bbff-15c7eb374911 button.colab-df-generate');\n",
              "      buttonEl.style.display =\n",
              "        google.colab.kernel.accessAllowed ? 'block' : 'none';\n",
              "\n",
              "      buttonEl.onclick = () => {\n",
              "        google.colab.notebook.generateWithVariable('nuevo_dataframe');\n",
              "      }\n",
              "      })();\n",
              "    </script>\n",
              "  </div>\n",
              "\n",
              "    </div>\n",
              "  </div>\n"
            ],
            "application/vnd.google.colaboratory.intrinsic+json": {
              "type": "dataframe",
              "variable_name": "nuevo_dataframe",
              "summary": "{\n  \"name\": \"nuevo_dataframe\",\n  \"rows\": 10,\n  \"fields\": [\n    {\n      \"column\": \"Retailer\",\n      \"properties\": {\n        \"dtype\": \"category\",\n        \"num_unique_values\": 1,\n        \"samples\": [\n          \"West Gear\"\n        ],\n        \"semantic_type\": \"\",\n        \"description\": \"\"\n      }\n    },\n    {\n      \"column\": \"Retailer ID\",\n      \"properties\": {\n        \"dtype\": \"number\",\n        \"std\": 0,\n        \"min\": 1185732,\n        \"max\": 1185732,\n        \"num_unique_values\": 1,\n        \"samples\": [\n          1185732\n        ],\n        \"semantic_type\": \"\",\n        \"description\": \"\"\n      }\n    },\n    {\n      \"column\": \"Invoice Date\",\n      \"properties\": {\n        \"dtype\": \"date\",\n        \"min\": \"2021-03-08 00:00:00\",\n        \"max\": \"2021-12-08 00:00:00\",\n        \"num_unique_values\": 10,\n        \"samples\": [\n          \"2021-11-09 00:00:00\"\n        ],\n        \"semantic_type\": \"\",\n        \"description\": \"\"\n      }\n    },\n    {\n      \"column\": \"Region\",\n      \"properties\": {\n        \"dtype\": \"category\",\n        \"num_unique_values\": 1,\n        \"samples\": [\n          \"Northeast\"\n        ],\n        \"semantic_type\": \"\",\n        \"description\": \"\"\n      }\n    },\n    {\n      \"column\": \"State\",\n      \"properties\": {\n        \"dtype\": \"category\",\n        \"num_unique_values\": 1,\n        \"samples\": [\n          \"New York\"\n        ],\n        \"semantic_type\": \"\",\n        \"description\": \"\"\n      }\n    },\n    {\n      \"column\": \"City\",\n      \"properties\": {\n        \"dtype\": \"category\",\n        \"num_unique_values\": 1,\n        \"samples\": [\n          \"Albany\"\n        ],\n        \"semantic_type\": \"\",\n        \"description\": \"\"\n      }\n    },\n    {\n      \"column\": \"Product\",\n      \"properties\": {\n        \"dtype\": \"category\",\n        \"num_unique_values\": 1,\n        \"samples\": [\n          \"Men's Street Footwear\"\n        ],\n        \"semantic_type\": \"\",\n        \"description\": \"\"\n      }\n    },\n    {\n      \"column\": \"Price per Unit\",\n      \"properties\": {\n        \"dtype\": \"number\",\n        \"std\": 7.54615428178118,\n        \"min\": 45.0,\n        \"max\": 65.0,\n        \"num_unique_values\": 5,\n        \"samples\": [\n          55.00000000000001\n        ],\n        \"semantic_type\": \"\",\n        \"description\": \"\"\n      }\n    },\n    {\n      \"column\": \"Units Sold\",\n      \"properties\": {\n        \"dtype\": \"number\",\n        \"std\": 52,\n        \"min\": 775,\n        \"max\": 950,\n        \"num_unique_values\": 8,\n        \"samples\": [\n          825\n        ],\n        \"semantic_type\": \"\",\n        \"description\": \"\"\n      }\n    },\n    {\n      \"column\": \"Total Sales\",\n      \"properties\": {\n        \"dtype\": \"number\",\n        \"std\": 82183.92736214708,\n        \"min\": 371250.0,\n        \"max\": 617500.0,\n        \"num_unique_values\": 10,\n        \"samples\": [\n          465000.00000000006\n        ],\n        \"semantic_type\": \"\",\n        \"description\": \"\"\n      }\n    },\n    {\n      \"column\": \"Operating Profit\",\n      \"properties\": {\n        \"dtype\": \"number\",\n        \"std\": 36982.767312966185,\n        \"min\": 167062.5,\n        \"max\": 277875.0,\n        \"num_unique_values\": 10,\n        \"samples\": [\n          209250.00000000003\n        ],\n        \"semantic_type\": \"\",\n        \"description\": \"\"\n      }\n    },\n    {\n      \"column\": \"Operating Margin\",\n      \"properties\": {\n        \"dtype\": \"number\",\n        \"std\": 5.851389114294502e-17,\n        \"min\": 0.45,\n        \"max\": 0.45,\n        \"num_unique_values\": 1,\n        \"samples\": [\n          0.45\n        ],\n        \"semantic_type\": \"\",\n        \"description\": \"\"\n      }\n    },\n    {\n      \"column\": \"Sales Method\",\n      \"properties\": {\n        \"dtype\": \"category\",\n        \"num_unique_values\": 1,\n        \"samples\": [\n          \"In-store\"\n        ],\n        \"semantic_type\": \"\",\n        \"description\": \"\"\n      }\n    }\n  ]\n}"
            }
          },
          "metadata": {},
          "execution_count": 51
        }
      ]
    }
  ]
}