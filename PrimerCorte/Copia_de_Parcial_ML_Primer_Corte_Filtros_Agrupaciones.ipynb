{
  "cells": [
    {
      "cell_type": "markdown",
      "id": "0d026f17",
      "metadata": {
        "id": "0d026f17"
      },
      "source": [
        "# Parcial 1 · Machine Learning (Primer Corte)\n",
        "**Formato:** Notebook de Python (Colab/Jupyter)\n",
        "\n",
        "**Instrucciones**\n",
        "- Responde directamente en las celdas indicadas con *Tu respuesta aquí*.\n",
        "- No borres el enunciado de las preguntas.\n",
        "- No uses gráficos; solo filtros, agrupaciones y cálculos básicos.\n",
        "- Mantén el código y comentarios en **español**.\n",
        "- **Entrega**: sube este `.ipynb` resuelto a la plataforma indicada.\n",
        "\n",
        "**Dataset esperado (`students.csv`)**\n",
        "Columnas: `gender, race/ethnicity, parental level of education, lunch, test preparation course, math score, reading score, writing score`.\n",
        "\n",
        "**Estructura del parcial**\n",
        "- **Sección A — Fundamentos (6 preguntas)**\n",
        "- **Sección B — EDA con filtros y agrupaciones (6 preguntas)**\n",
        "\n",
        "**Puntaje**: 100 puntos (≈ 8.3 por pregunta).\n",
        "\n",
        "---"
      ]
    },
    {
      "cell_type": "code",
      "execution_count": 1,
      "id": "7edbe5e7",
      "metadata": {
        "id": "7edbe5e7",
        "colab": {
          "base_uri": "https://localhost:8080/"
        },
        "outputId": "b30cd36d-024a-4224-c3e4-8f443b53e346"
      },
      "outputs": [
        {
          "output_type": "stream",
          "name": "stdout",
          "text": [
            "--2025-09-17 20:48:33--  https://raw.githubusercontent.com/javierherrera1996/lecture_analytics/main/StudentsPerformance.csv\n",
            "Resolving raw.githubusercontent.com (raw.githubusercontent.com)... 185.199.108.133, 185.199.109.133, 185.199.110.133, ...\n",
            "Connecting to raw.githubusercontent.com (raw.githubusercontent.com)|185.199.108.133|:443... connected.\n",
            "HTTP request sent, awaiting response... 200 OK\n",
            "Length: 72036 (70K) [text/plain]\n",
            "Saving to: ‘StudentsPerformance.csv’\n",
            "\n",
            "\rStudentsPerformance   0%[                    ]       0  --.-KB/s               \rStudentsPerformance 100%[===================>]  70.35K  --.-KB/s    in 0.02s   \n",
            "\n",
            "2025-09-17 20:48:33 (3.09 MB/s) - ‘StudentsPerformance.csv’ saved [72036/72036]\n",
            "\n"
          ]
        }
      ],
      "source": [
        "!wget https://raw.githubusercontent.com/javierherrera1996/lecture_analytics/main/StudentsPerformance.csv"
      ]
    },
    {
      "cell_type": "markdown",
      "id": "cb60e77d",
      "metadata": {
        "id": "cb60e77d"
      },
      "source": [
        "### Dependencias (ejecuta esta celda primero)"
      ]
    },
    {
      "cell_type": "code",
      "execution_count": 2,
      "id": "34635d2a",
      "metadata": {
        "id": "34635d2a"
      },
      "outputs": [],
      "source": [
        "import pandas as pd\n",
        "import numpy as np"
      ]
    },
    {
      "cell_type": "markdown",
      "id": "f8613aea",
      "metadata": {
        "id": "f8613aea"
      },
      "source": [
        "## Carga del dataset\n",
        "Sube un archivo **`students.csv`** (mismo directorio del notebook) o ajusta la ruta en la celda. Si no tienes el archivo, puedes **generar una muestra mínima** con la celda opcional.\n"
      ]
    },
    {
      "cell_type": "code",
      "execution_count": 3,
      "id": "06f6c5f4",
      "metadata": {
        "id": "06f6c5f4"
      },
      "outputs": [],
      "source": [
        "df = pd.read_csv(\"StudentsPerformance.csv\")"
      ]
    },
    {
      "cell_type": "markdown",
      "id": "93ebf254",
      "metadata": {
        "id": "93ebf254"
      },
      "source": [
        "#### (Opcional) Generar una muestra mínima si no tienes el CSV"
      ]
    },
    {
      "cell_type": "code",
      "execution_count": null,
      "id": "8a77cd91",
      "metadata": {
        "id": "8a77cd91"
      },
      "outputs": [],
      "source": []
    },
    {
      "cell_type": "markdown",
      "id": "b05fd9f0",
      "metadata": {
        "id": "b05fd9f0"
      },
      "source": [
        "## Sección A — Fundamentos de Machine Learning (Conceptual, sin métricas ni gráficos)"
      ]
    },
    {
      "cell_type": "markdown",
      "id": "f84a0d9b",
      "metadata": {
        "id": "f84a0d9b"
      },
      "source": [
        "### A1. Supervisado vs No Supervisado\n",
        "**Describe** con tus palabras la diferencia entre **aprendizaje supervisado** y **no supervisado**. Da **1 ejemplo** de cada uno aplicado a educación o negocios.\n",
        "\n",
        "_Tu respuesta aquí (Markdown):_\n",
        "\n",
        "El aprendizaje supervisado es aquel aprendizaje que se basa en prueba y error por medio de etiquetas o respuestas que ya son conocidas por la computadora, ya que la computadora recibe una pregunta y respuesta que son correctas y con base a este puede predecir en  sobre nuevos casos. En la vida real esto se puede ver en los estudiantes, es decir tratar de predecir si un estudiante va a pasar el año o va a tener cierta nota especifica por el historia académico que el estudiante tenga, si el estudiante ha tenido buenas calificaciones siempre, es muy probable que gane el año o tenga una nota muy alta, en los negocios es similar, puede ser las compras de un proveedor a una empresa en específico o las ventas de cierto producto, ya que el nivel de preferencia es mayor.\n",
        "\n",
        "El aprendizaje no supervisado es al contrario que el supervisado, ya que aquí no hay etiquetas o modelos de preguntas y respuestas corectas si no por patrones, donde se van explorando datos para encontrar patrones que están ocultos, o agrupaciones que para la máquina es compleja de encontrar en un primer momento, de esta manera los computadores organizan la información y buscan varias fuentes para encontrar una respuesta óptima, un ejemplo de esto sería la segmentación de los clientes en una empresa para un producto de lanzamiento, la empresa hace un gasto promedio, la frecuencia de compra que tendría, el tipo de cliente o cliente ideal y con base a esto se hace una estrategia de marketing personalizada para el éxito del producto."
      ]
    },
    {
      "cell_type": "markdown",
      "id": "075d0640",
      "metadata": {
        "id": "075d0640"
      },
      "source": [
        "### A2. Variable dependiente e independientes\n",
        "Si queremos predecir `math score`, ¿cuál es la **variable dependiente**? Menciona **dos** posibles **variables independientes** justificando por qué.\n",
        "\n",
        "_Tu respuesta aquí (Markdown):_\n",
        "\n",
        "\n",
        "mis variable serían:  test preparation course y parental level of education, ya que al tener padres con un nivel de educación superior, tiene la gran pocibilidad de que su hijo tenga una preparación previa a un exámen para que su hijo este más preparado y seguro de la prueba y así poder tener una nota superiro, a diferencia de tener unos padres sin la base o los conocimientos de estas pruebas o pensar de que no son necesario por el hecho de que no se han encontrado en una situación similar antes, hace que el niño probablemente tenga una preparación menor o no le de mucha importancia a la nota que adquiera o se conforme con poco."
      ]
    },
    {
      "cell_type": "markdown",
      "id": "42cc723f",
      "metadata": {
        "id": "42cc723f"
      },
      "source": [
        "### A3. Clasificación binaria\n",
        "Si clasificamos estudiantes en **Aprobado** (≥ 60) vs **No aprobado**, ¿qué tipo de aprendizaje es? Justifica brevemente.\n",
        "\n",
        "_Tu respuesta aquí (Markdown):_\n",
        "\n",
        "Si queremos clafificar a los estudiantes en aprobado mayor a 60 es un lenguaje supervisado ya que hay una variable ya definida que es estudiantes aprobados mayor o igual a 60, teniendo esto, el sistema o el computador tiene una base y puede aprender a clasificar a los estudiantes con esta etiqueta definida claramente.\n"
      ]
    },
    {
      "cell_type": "markdown",
      "id": "bf02bab8",
      "metadata": {
        "id": "bf02bab8"
      },
      "source": [
        "### A4. Casos de negocio (supervisado)\n",
        "Da **dos** ejemplos de problemas de negocio donde usarías aprendizaje **supervisado** y explica por qué.\n",
        "\n",
        "_Tu respuesta aquí (Markdown):_\n",
        "\n",
        "La predicción de las ventas de una empresa, ya que se puede entrenar al sistema con una base de datos histórica que tenga la empresa, diferentes modelos de ventas anteriores, y que con esto genere estrategias de marketing y haga una predicción de las ventas que posiblemente puede llegar a  tener la empresa.\n",
        "\n",
        "la otra sería riesgos de créditos, ya que aquí se pueden clasificar a los clientes como aprobado, rechazado junto con su historial crediticio y de esta manera ponerle condicionales y así poder hacer que el sistema haga un análisis de a que personas se puede prestar dinero y a quienes no y su tipo de riesgo."
      ]
    },
    {
      "cell_type": "markdown",
      "id": "feef5edc",
      "metadata": {
        "id": "feef5edc"
      },
      "source": [
        "### A5. Casos de negocio (no supervisado)\n",
        "Da **dos** ejemplos de problemas de negocio donde usarías aprendizaje **no supervisado** y explica por qué.\n",
        "\n",
        "_Tu respuesta aquí (Markdown):_\n",
        "\n",
        "El primer problema de negocio que usaria para el aprendizaje no supervisado sería la recomendación de productos a los diferentes tipos de clientes que puede tener una tienda, dependiendo de la frecuencia de compra, la relación de los productos que adquiere la persona, se puede lograr que el sistema recomiende productos con base a etiquetas explicitas o específicas.\n",
        "\n",
        "La otra opción es la optimización de rutas de logística, ya que si tenemos la información de donde son los puntos con mayores entregas o la frecuencia de los pedidos en ciertas áreas, se puede lograr descubrir agrupaciones para reducir los tiempos de entrega y reparto de los productos."
      ]
    },
    {
      "cell_type": "markdown",
      "id": "33f2b6fd",
      "metadata": {
        "id": "33f2b6fd"
      },
      "source": [
        "### A6. Segmentación por similitud\n",
        "Si quieres segmentar estudiantes por similitud de `reading score` y `writing score`, ¿qué tipo de aprendizaje usarías y por qué?\n",
        "\n",
        "_Tu respuesta aquí (Markdown):_\n",
        "\n",
        "usaría el aprendizaje no supervisado porque a pesar de que el sistema tiene la restricción de reading score y writing score, tendría que hacer un análisis el solo, y detectar las similitudes o los patrones y hacer una agrupación entre los estudiates con semejanzas en el puntaje."
      ]
    },
    {
      "cell_type": "markdown",
      "id": "b7f594ed",
      "metadata": {
        "id": "b7f594ed"
      },
      "source": [
        "## Sección B — EDA (solo filtros y agrupaciones, foco de negocio)"
      ]
    },
    {
      "cell_type": "markdown",
      "id": "f60a6103",
      "metadata": {
        "id": "f60a6103"
      },
      "source": [
        "### B7. Promedio de matemáticas por género\n",
        "Calcula el **promedio de `math score` por `gender`**.\n",
        "- ¿Qué género tiene mejor promedio?\n",
        "- **Conclusión de negocio**: en 1–2 líneas, ¿qué harías con esta información?\n",
        "\n",
        "_Escribe tu código y comentarios:_"
      ]
    },
    {
      "cell_type": "code",
      "execution_count": 4,
      "id": "34e84ef6",
      "metadata": {
        "id": "34e84ef6",
        "colab": {
          "base_uri": "https://localhost:8080/",
          "height": 178
        },
        "outputId": "632415a6-98ce-4188-f86f-daf54d2e6996"
      },
      "outputs": [
        {
          "output_type": "execute_result",
          "data": {
            "text/plain": [
              "gender\n",
              "female    63.633205\n",
              "male      68.728216\n",
              "Name: math score, dtype: float64"
            ],
            "text/html": [
              "<div>\n",
              "<style scoped>\n",
              "    .dataframe tbody tr th:only-of-type {\n",
              "        vertical-align: middle;\n",
              "    }\n",
              "\n",
              "    .dataframe tbody tr th {\n",
              "        vertical-align: top;\n",
              "    }\n",
              "\n",
              "    .dataframe thead th {\n",
              "        text-align: right;\n",
              "    }\n",
              "</style>\n",
              "<table border=\"1\" class=\"dataframe\">\n",
              "  <thead>\n",
              "    <tr style=\"text-align: right;\">\n",
              "      <th></th>\n",
              "      <th>math score</th>\n",
              "    </tr>\n",
              "    <tr>\n",
              "      <th>gender</th>\n",
              "      <th></th>\n",
              "    </tr>\n",
              "  </thead>\n",
              "  <tbody>\n",
              "    <tr>\n",
              "      <th>female</th>\n",
              "      <td>63.633205</td>\n",
              "    </tr>\n",
              "    <tr>\n",
              "      <th>male</th>\n",
              "      <td>68.728216</td>\n",
              "    </tr>\n",
              "  </tbody>\n",
              "</table>\n",
              "</div><br><label><b>dtype:</b> float64</label>"
            ]
          },
          "metadata": {},
          "execution_count": 4
        }
      ],
      "source": [
        "df.groupby('gender')['math score'].mean()"
      ]
    },
    {
      "cell_type": "markdown",
      "source": [
        "El género que tiene mejor promedio son los Hombres, con esta información trataría de mirar si hay algún fallo con la comprensión de matemáticas en las chicas para así mejorar la metodología de clase para los dos géneros."
      ],
      "metadata": {
        "id": "DfipiWmhksSg"
      },
      "id": "DfipiWmhksSg"
    },
    {
      "cell_type": "markdown",
      "id": "5127174e",
      "metadata": {
        "id": "5127174e"
      },
      "source": [
        "### B8. Lectura por grupo étnico\n",
        "Calcula el **promedio de `reading score` por `race/ethnicity`**.\n",
        "- ¿Qué grupo tiene mejor desempeño?\n",
        "- **Aplicación**: ¿cómo usarías esto en un programa de apoyo escolar?\n",
        "\n",
        "_Escribe tu código y comentarios:_"
      ]
    },
    {
      "cell_type": "code",
      "execution_count": 8,
      "id": "7fd591b9",
      "metadata": {
        "id": "7fd591b9",
        "colab": {
          "base_uri": "https://localhost:8080/",
          "height": 272
        },
        "outputId": "1340577c-dd5d-4e73-c4b3-75b7c1fbee6d"
      },
      "outputs": [
        {
          "output_type": "execute_result",
          "data": {
            "text/plain": [
              "race/ethnicity\n",
              "group E    73.028571\n",
              "group D    70.030534\n",
              "group C    69.103448\n",
              "group B    67.352632\n",
              "group A    64.674157\n",
              "Name: reading score, dtype: float64"
            ],
            "text/html": [
              "<div>\n",
              "<style scoped>\n",
              "    .dataframe tbody tr th:only-of-type {\n",
              "        vertical-align: middle;\n",
              "    }\n",
              "\n",
              "    .dataframe tbody tr th {\n",
              "        vertical-align: top;\n",
              "    }\n",
              "\n",
              "    .dataframe thead th {\n",
              "        text-align: right;\n",
              "    }\n",
              "</style>\n",
              "<table border=\"1\" class=\"dataframe\">\n",
              "  <thead>\n",
              "    <tr style=\"text-align: right;\">\n",
              "      <th></th>\n",
              "      <th>reading score</th>\n",
              "    </tr>\n",
              "    <tr>\n",
              "      <th>race/ethnicity</th>\n",
              "      <th></th>\n",
              "    </tr>\n",
              "  </thead>\n",
              "  <tbody>\n",
              "    <tr>\n",
              "      <th>group E</th>\n",
              "      <td>73.028571</td>\n",
              "    </tr>\n",
              "    <tr>\n",
              "      <th>group D</th>\n",
              "      <td>70.030534</td>\n",
              "    </tr>\n",
              "    <tr>\n",
              "      <th>group C</th>\n",
              "      <td>69.103448</td>\n",
              "    </tr>\n",
              "    <tr>\n",
              "      <th>group B</th>\n",
              "      <td>67.352632</td>\n",
              "    </tr>\n",
              "    <tr>\n",
              "      <th>group A</th>\n",
              "      <td>64.674157</td>\n",
              "    </tr>\n",
              "  </tbody>\n",
              "</table>\n",
              "</div><br><label><b>dtype:</b> float64</label>"
            ]
          },
          "metadata": {},
          "execution_count": 8
        }
      ],
      "source": [
        "df.groupby('race/ethnicity')['reading score'].mean().sort_values(ascending=False)"
      ]
    },
    {
      "cell_type": "markdown",
      "source": [
        "El grupo que tiene mejor desempeño es el grupo E, con un desempeño promedio de 73%.\n",
        "Con estos resultados, implementaría planes de acción para que los grpos con menor promedio puedan reforzar sus conocimientos, aprender tips o cosas nuevas que los impulse e iguale a los del grupo E, también una retroalimentación de los fallos que tuvieron y el por que lo tuvieron, para que así tengan una visión y comprensión mayor y puedan mejorar continuamente."
      ],
      "metadata": {
        "id": "HY4DQC7zlsPH"
      },
      "id": "HY4DQC7zlsPH"
    },
    {
      "cell_type": "markdown",
      "id": "ec29181f",
      "metadata": {
        "id": "ec29181f"
      },
      "source": [
        "### B9. Impacto del tipo de almuerzo\n",
        "Filtra estudiantes con `lunch = free/reduced` y calcula el **promedio de `math score` y `reading score`**. Compáralo con `lunch = standard`.\n",
        "- **Conclusión de negocio**: ¿qué acción propones?\n",
        "\n",
        "_Escribe tu código y comentarios:_"
      ]
    },
    {
      "cell_type": "code",
      "execution_count": 9,
      "id": "536a926c",
      "metadata": {
        "id": "536a926c",
        "colab": {
          "base_uri": "https://localhost:8080/",
          "height": 143
        },
        "outputId": "9b7cc758-b207-4c74-eb5a-f291e645552c"
      },
      "outputs": [
        {
          "output_type": "execute_result",
          "data": {
            "text/plain": [
              "              math score  reading score\n",
              "lunch                                  \n",
              "free/reduced   58.921127      64.653521\n",
              "standard       70.034109      71.654264"
            ],
            "text/html": [
              "\n",
              "  <div id=\"df-e748783e-55ea-4c07-8ac7-99922d509d73\" class=\"colab-df-container\">\n",
              "    <div>\n",
              "<style scoped>\n",
              "    .dataframe tbody tr th:only-of-type {\n",
              "        vertical-align: middle;\n",
              "    }\n",
              "\n",
              "    .dataframe tbody tr th {\n",
              "        vertical-align: top;\n",
              "    }\n",
              "\n",
              "    .dataframe thead th {\n",
              "        text-align: right;\n",
              "    }\n",
              "</style>\n",
              "<table border=\"1\" class=\"dataframe\">\n",
              "  <thead>\n",
              "    <tr style=\"text-align: right;\">\n",
              "      <th></th>\n",
              "      <th>math score</th>\n",
              "      <th>reading score</th>\n",
              "    </tr>\n",
              "    <tr>\n",
              "      <th>lunch</th>\n",
              "      <th></th>\n",
              "      <th></th>\n",
              "    </tr>\n",
              "  </thead>\n",
              "  <tbody>\n",
              "    <tr>\n",
              "      <th>free/reduced</th>\n",
              "      <td>58.921127</td>\n",
              "      <td>64.653521</td>\n",
              "    </tr>\n",
              "    <tr>\n",
              "      <th>standard</th>\n",
              "      <td>70.034109</td>\n",
              "      <td>71.654264</td>\n",
              "    </tr>\n",
              "  </tbody>\n",
              "</table>\n",
              "</div>\n",
              "    <div class=\"colab-df-buttons\">\n",
              "\n",
              "  <div class=\"colab-df-container\">\n",
              "    <button class=\"colab-df-convert\" onclick=\"convertToInteractive('df-e748783e-55ea-4c07-8ac7-99922d509d73')\"\n",
              "            title=\"Convert this dataframe to an interactive table.\"\n",
              "            style=\"display:none;\">\n",
              "\n",
              "  <svg xmlns=\"http://www.w3.org/2000/svg\" height=\"24px\" viewBox=\"0 -960 960 960\">\n",
              "    <path d=\"M120-120v-720h720v720H120Zm60-500h600v-160H180v160Zm220 220h160v-160H400v160Zm0 220h160v-160H400v160ZM180-400h160v-160H180v160Zm440 0h160v-160H620v160ZM180-180h160v-160H180v160Zm440 0h160v-160H620v160Z\"/>\n",
              "  </svg>\n",
              "    </button>\n",
              "\n",
              "  <style>\n",
              "    .colab-df-container {\n",
              "      display:flex;\n",
              "      gap: 12px;\n",
              "    }\n",
              "\n",
              "    .colab-df-convert {\n",
              "      background-color: #E8F0FE;\n",
              "      border: none;\n",
              "      border-radius: 50%;\n",
              "      cursor: pointer;\n",
              "      display: none;\n",
              "      fill: #1967D2;\n",
              "      height: 32px;\n",
              "      padding: 0 0 0 0;\n",
              "      width: 32px;\n",
              "    }\n",
              "\n",
              "    .colab-df-convert:hover {\n",
              "      background-color: #E2EBFA;\n",
              "      box-shadow: 0px 1px 2px rgba(60, 64, 67, 0.3), 0px 1px 3px 1px rgba(60, 64, 67, 0.15);\n",
              "      fill: #174EA6;\n",
              "    }\n",
              "\n",
              "    .colab-df-buttons div {\n",
              "      margin-bottom: 4px;\n",
              "    }\n",
              "\n",
              "    [theme=dark] .colab-df-convert {\n",
              "      background-color: #3B4455;\n",
              "      fill: #D2E3FC;\n",
              "    }\n",
              "\n",
              "    [theme=dark] .colab-df-convert:hover {\n",
              "      background-color: #434B5C;\n",
              "      box-shadow: 0px 1px 3px 1px rgba(0, 0, 0, 0.15);\n",
              "      filter: drop-shadow(0px 1px 2px rgba(0, 0, 0, 0.3));\n",
              "      fill: #FFFFFF;\n",
              "    }\n",
              "  </style>\n",
              "\n",
              "    <script>\n",
              "      const buttonEl =\n",
              "        document.querySelector('#df-e748783e-55ea-4c07-8ac7-99922d509d73 button.colab-df-convert');\n",
              "      buttonEl.style.display =\n",
              "        google.colab.kernel.accessAllowed ? 'block' : 'none';\n",
              "\n",
              "      async function convertToInteractive(key) {\n",
              "        const element = document.querySelector('#df-e748783e-55ea-4c07-8ac7-99922d509d73');\n",
              "        const dataTable =\n",
              "          await google.colab.kernel.invokeFunction('convertToInteractive',\n",
              "                                                    [key], {});\n",
              "        if (!dataTable) return;\n",
              "\n",
              "        const docLinkHtml = 'Like what you see? Visit the ' +\n",
              "          '<a target=\"_blank\" href=https://colab.research.google.com/notebooks/data_table.ipynb>data table notebook</a>'\n",
              "          + ' to learn more about interactive tables.';\n",
              "        element.innerHTML = '';\n",
              "        dataTable['output_type'] = 'display_data';\n",
              "        await google.colab.output.renderOutput(dataTable, element);\n",
              "        const docLink = document.createElement('div');\n",
              "        docLink.innerHTML = docLinkHtml;\n",
              "        element.appendChild(docLink);\n",
              "      }\n",
              "    </script>\n",
              "  </div>\n",
              "\n",
              "\n",
              "    <div id=\"df-edf19d3b-67c3-423e-b125-17216fcc8dba\">\n",
              "      <button class=\"colab-df-quickchart\" onclick=\"quickchart('df-edf19d3b-67c3-423e-b125-17216fcc8dba')\"\n",
              "                title=\"Suggest charts\"\n",
              "                style=\"display:none;\">\n",
              "\n",
              "<svg xmlns=\"http://www.w3.org/2000/svg\" height=\"24px\"viewBox=\"0 0 24 24\"\n",
              "     width=\"24px\">\n",
              "    <g>\n",
              "        <path d=\"M19 3H5c-1.1 0-2 .9-2 2v14c0 1.1.9 2 2 2h14c1.1 0 2-.9 2-2V5c0-1.1-.9-2-2-2zM9 17H7v-7h2v7zm4 0h-2V7h2v10zm4 0h-2v-4h2v4z\"/>\n",
              "    </g>\n",
              "</svg>\n",
              "      </button>\n",
              "\n",
              "<style>\n",
              "  .colab-df-quickchart {\n",
              "      --bg-color: #E8F0FE;\n",
              "      --fill-color: #1967D2;\n",
              "      --hover-bg-color: #E2EBFA;\n",
              "      --hover-fill-color: #174EA6;\n",
              "      --disabled-fill-color: #AAA;\n",
              "      --disabled-bg-color: #DDD;\n",
              "  }\n",
              "\n",
              "  [theme=dark] .colab-df-quickchart {\n",
              "      --bg-color: #3B4455;\n",
              "      --fill-color: #D2E3FC;\n",
              "      --hover-bg-color: #434B5C;\n",
              "      --hover-fill-color: #FFFFFF;\n",
              "      --disabled-bg-color: #3B4455;\n",
              "      --disabled-fill-color: #666;\n",
              "  }\n",
              "\n",
              "  .colab-df-quickchart {\n",
              "    background-color: var(--bg-color);\n",
              "    border: none;\n",
              "    border-radius: 50%;\n",
              "    cursor: pointer;\n",
              "    display: none;\n",
              "    fill: var(--fill-color);\n",
              "    height: 32px;\n",
              "    padding: 0;\n",
              "    width: 32px;\n",
              "  }\n",
              "\n",
              "  .colab-df-quickchart:hover {\n",
              "    background-color: var(--hover-bg-color);\n",
              "    box-shadow: 0 1px 2px rgba(60, 64, 67, 0.3), 0 1px 3px 1px rgba(60, 64, 67, 0.15);\n",
              "    fill: var(--button-hover-fill-color);\n",
              "  }\n",
              "\n",
              "  .colab-df-quickchart-complete:disabled,\n",
              "  .colab-df-quickchart-complete:disabled:hover {\n",
              "    background-color: var(--disabled-bg-color);\n",
              "    fill: var(--disabled-fill-color);\n",
              "    box-shadow: none;\n",
              "  }\n",
              "\n",
              "  .colab-df-spinner {\n",
              "    border: 2px solid var(--fill-color);\n",
              "    border-color: transparent;\n",
              "    border-bottom-color: var(--fill-color);\n",
              "    animation:\n",
              "      spin 1s steps(1) infinite;\n",
              "  }\n",
              "\n",
              "  @keyframes spin {\n",
              "    0% {\n",
              "      border-color: transparent;\n",
              "      border-bottom-color: var(--fill-color);\n",
              "      border-left-color: var(--fill-color);\n",
              "    }\n",
              "    20% {\n",
              "      border-color: transparent;\n",
              "      border-left-color: var(--fill-color);\n",
              "      border-top-color: var(--fill-color);\n",
              "    }\n",
              "    30% {\n",
              "      border-color: transparent;\n",
              "      border-left-color: var(--fill-color);\n",
              "      border-top-color: var(--fill-color);\n",
              "      border-right-color: var(--fill-color);\n",
              "    }\n",
              "    40% {\n",
              "      border-color: transparent;\n",
              "      border-right-color: var(--fill-color);\n",
              "      border-top-color: var(--fill-color);\n",
              "    }\n",
              "    60% {\n",
              "      border-color: transparent;\n",
              "      border-right-color: var(--fill-color);\n",
              "    }\n",
              "    80% {\n",
              "      border-color: transparent;\n",
              "      border-right-color: var(--fill-color);\n",
              "      border-bottom-color: var(--fill-color);\n",
              "    }\n",
              "    90% {\n",
              "      border-color: transparent;\n",
              "      border-bottom-color: var(--fill-color);\n",
              "    }\n",
              "  }\n",
              "</style>\n",
              "\n",
              "      <script>\n",
              "        async function quickchart(key) {\n",
              "          const quickchartButtonEl =\n",
              "            document.querySelector('#' + key + ' button');\n",
              "          quickchartButtonEl.disabled = true;  // To prevent multiple clicks.\n",
              "          quickchartButtonEl.classList.add('colab-df-spinner');\n",
              "          try {\n",
              "            const charts = await google.colab.kernel.invokeFunction(\n",
              "                'suggestCharts', [key], {});\n",
              "          } catch (error) {\n",
              "            console.error('Error during call to suggestCharts:', error);\n",
              "          }\n",
              "          quickchartButtonEl.classList.remove('colab-df-spinner');\n",
              "          quickchartButtonEl.classList.add('colab-df-quickchart-complete');\n",
              "        }\n",
              "        (() => {\n",
              "          let quickchartButtonEl =\n",
              "            document.querySelector('#df-edf19d3b-67c3-423e-b125-17216fcc8dba button');\n",
              "          quickchartButtonEl.style.display =\n",
              "            google.colab.kernel.accessAllowed ? 'block' : 'none';\n",
              "        })();\n",
              "      </script>\n",
              "    </div>\n",
              "\n",
              "    </div>\n",
              "  </div>\n"
            ],
            "application/vnd.google.colaboratory.intrinsic+json": {
              "type": "dataframe",
              "summary": "{\n  \"name\": \"df\",\n  \"rows\": 2,\n  \"fields\": [\n    {\n      \"column\": \"lunch\",\n      \"properties\": {\n        \"dtype\": \"string\",\n        \"num_unique_values\": 2,\n        \"samples\": [\n          \"standard\",\n          \"free/reduced\"\n        ],\n        \"semantic_type\": \"\",\n        \"description\": \"\"\n      }\n    },\n    {\n      \"column\": \"math score\",\n      \"properties\": {\n        \"dtype\": \"number\",\n        \"std\": 7.858064766342971,\n        \"min\": 58.92112676056338,\n        \"max\": 70.03410852713178,\n        \"num_unique_values\": 2,\n        \"samples\": [\n          70.03410852713178,\n          58.92112676056338\n        ],\n        \"semantic_type\": \"\",\n        \"description\": \"\"\n      }\n    },\n    {\n      \"column\": \"reading score\",\n      \"properties\": {\n        \"dtype\": \"number\",\n        \"std\": 4.950272452049912,\n        \"min\": 64.65352112676057,\n        \"max\": 71.65426356589147,\n        \"num_unique_values\": 2,\n        \"samples\": [\n          71.65426356589147,\n          64.65352112676057\n        ],\n        \"semantic_type\": \"\",\n        \"description\": \"\"\n      }\n    }\n  ]\n}"
            }
          },
          "metadata": {},
          "execution_count": 9
        }
      ],
      "source": [
        "df.groupby('lunch')[['math score', 'reading score']].mean()"
      ]
    },
    {
      "cell_type": "markdown",
      "source": [
        "Los gobiernos deben ofrecer comida de calidad a los estudiantes y más cuando se encuentran en su edad de crecimiento, ya que los niños necesitan más energía y más nutrientes para estar sanos y fuertes y no tengan ningún problema en su desarrollo."
      ],
      "metadata": {
        "id": "_C-xz5esnFH4"
      },
      "id": "_C-xz5esnFH4"
    },
    {
      "cell_type": "markdown",
      "id": "1cc05360",
      "metadata": {
        "id": "1cc05360"
      },
      "source": [
        "### B10. Educación parental y rendimiento\n",
        "Agrupa por `parental level of education` y calcula el **promedio de `math score`**.\n",
        "- ¿Qué nivel se asocia con mejores resultados?\n",
        "- **Acción**: ¿qué intervención o programa harías basado en esto?\n",
        "\n",
        "_Escribe tu código y comentarios:_"
      ]
    },
    {
      "cell_type": "code",
      "execution_count": 10,
      "id": "626c2260",
      "metadata": {
        "id": "626c2260",
        "colab": {
          "base_uri": "https://localhost:8080/",
          "height": 304
        },
        "outputId": "16644f04-cee9-40c8-b583-b82d5bbec36b"
      },
      "outputs": [
        {
          "output_type": "execute_result",
          "data": {
            "text/plain": [
              "parental level of education\n",
              "master's degree       69.745763\n",
              "bachelor's degree     69.389831\n",
              "associate's degree    67.882883\n",
              "some college          67.128319\n",
              "some high school      63.497207\n",
              "high school           62.137755\n",
              "Name: math score, dtype: float64"
            ],
            "text/html": [
              "<div>\n",
              "<style scoped>\n",
              "    .dataframe tbody tr th:only-of-type {\n",
              "        vertical-align: middle;\n",
              "    }\n",
              "\n",
              "    .dataframe tbody tr th {\n",
              "        vertical-align: top;\n",
              "    }\n",
              "\n",
              "    .dataframe thead th {\n",
              "        text-align: right;\n",
              "    }\n",
              "</style>\n",
              "<table border=\"1\" class=\"dataframe\">\n",
              "  <thead>\n",
              "    <tr style=\"text-align: right;\">\n",
              "      <th></th>\n",
              "      <th>math score</th>\n",
              "    </tr>\n",
              "    <tr>\n",
              "      <th>parental level of education</th>\n",
              "      <th></th>\n",
              "    </tr>\n",
              "  </thead>\n",
              "  <tbody>\n",
              "    <tr>\n",
              "      <th>master's degree</th>\n",
              "      <td>69.745763</td>\n",
              "    </tr>\n",
              "    <tr>\n",
              "      <th>bachelor's degree</th>\n",
              "      <td>69.389831</td>\n",
              "    </tr>\n",
              "    <tr>\n",
              "      <th>associate's degree</th>\n",
              "      <td>67.882883</td>\n",
              "    </tr>\n",
              "    <tr>\n",
              "      <th>some college</th>\n",
              "      <td>67.128319</td>\n",
              "    </tr>\n",
              "    <tr>\n",
              "      <th>some high school</th>\n",
              "      <td>63.497207</td>\n",
              "    </tr>\n",
              "    <tr>\n",
              "      <th>high school</th>\n",
              "      <td>62.137755</td>\n",
              "    </tr>\n",
              "  </tbody>\n",
              "</table>\n",
              "</div><br><label><b>dtype:</b> float64</label>"
            ]
          },
          "metadata": {},
          "execution_count": 10
        }
      ],
      "source": [
        "df.groupby('parental level of education')['math score'].mean().sort_values(ascending=False)"
      ]
    },
    {
      "cell_type": "markdown",
      "source": [
        "El nivel que se asocia con los mejores resultados es el master's degree con un porcentaje del 69.7%\n",
        "\n",
        "los programas que haría seria una escuela para padres, intentar capacitarlos para que puedan darle una mejor educación a sus hijos o mantenerlos actualizados para que puedan ayudar a abrirle las puertas a sus hijos y más con  los diferentes apoyos o recursos que tienen los gobiernos, a su vez, implementaría una formación gratuita y de calidad a las personas que no cuentan con padres presentes o que sus padres no tienen un nivel de educación superior, para que el niño no pierda las oportunidades que pueden tener los demás."
      ],
      "metadata": {
        "id": "3wL5U1ClnifY"
      },
      "id": "3wL5U1ClnifY"
    },
    {
      "cell_type": "markdown",
      "id": "1dd7725d",
      "metadata": {
        "id": "1dd7725d"
      },
      "source": [
        "### B11. Curso de preparación y puntaje\n",
        "Filtra estudiantes que **completaron** `test preparation course` y calcula el **promedio de `math score`**. Compáralo con quienes **no** lo completaron.\n",
        "- **Decisión**: ¿financiarías este curso? Explica.\n",
        "\n",
        "_Escribe tu código y comentarios:_"
      ]
    },
    {
      "cell_type": "code",
      "execution_count": 11,
      "id": "9141333d",
      "metadata": {
        "id": "9141333d",
        "colab": {
          "base_uri": "https://localhost:8080/",
          "height": 178
        },
        "outputId": "17029f84-e376-47ef-fe9d-50d0a20e6c0f"
      },
      "outputs": [
        {
          "output_type": "execute_result",
          "data": {
            "text/plain": [
              "test preparation course\n",
              "completed    69.695531\n",
              "none         64.077882\n",
              "Name: math score, dtype: float64"
            ],
            "text/html": [
              "<div>\n",
              "<style scoped>\n",
              "    .dataframe tbody tr th:only-of-type {\n",
              "        vertical-align: middle;\n",
              "    }\n",
              "\n",
              "    .dataframe tbody tr th {\n",
              "        vertical-align: top;\n",
              "    }\n",
              "\n",
              "    .dataframe thead th {\n",
              "        text-align: right;\n",
              "    }\n",
              "</style>\n",
              "<table border=\"1\" class=\"dataframe\">\n",
              "  <thead>\n",
              "    <tr style=\"text-align: right;\">\n",
              "      <th></th>\n",
              "      <th>math score</th>\n",
              "    </tr>\n",
              "    <tr>\n",
              "      <th>test preparation course</th>\n",
              "      <th></th>\n",
              "    </tr>\n",
              "  </thead>\n",
              "  <tbody>\n",
              "    <tr>\n",
              "      <th>completed</th>\n",
              "      <td>69.695531</td>\n",
              "    </tr>\n",
              "    <tr>\n",
              "      <th>none</th>\n",
              "      <td>64.077882</td>\n",
              "    </tr>\n",
              "  </tbody>\n",
              "</table>\n",
              "</div><br><label><b>dtype:</b> float64</label>"
            ]
          },
          "metadata": {},
          "execution_count": 11
        }
      ],
      "source": [
        "df.groupby('test preparation course')['math score'].mean()"
      ]
    },
    {
      "cell_type": "markdown",
      "source": [
        "Sí, ya que las personas que tomaron el curso tuvieron mejores resultados que las personas que no lo hiciern, esto ayudaría mucho a los estudiantes y beneficiaría en gran manera a aquellos que no tienen la posibilidad económica de completarlo o de adquirirlo por sus propios medios."
      ],
      "metadata": {
        "id": "R4HNV7S_pkVx"
      },
      "id": "R4HNV7S_pkVx"
    },
    {
      "cell_type": "markdown",
      "id": "aa4a861b",
      "metadata": {
        "id": "aa4a861b"
      },
      "source": [
        "### B12. Doble agrupación (negocio)\n",
        "Crea una **tabla** agrupada por `gender` y `test preparation course` con el **promedio de `writing score`**.\n",
        "- ¿Qué combinación muestra mejores resultados?\n",
        "- **Recomendación**: ¿a quién priorizas para una beca del curso?\n",
        "\n",
        "_Escribe tu código y comentarios:_"
      ]
    },
    {
      "cell_type": "code",
      "execution_count": 13,
      "id": "714de25f",
      "metadata": {
        "id": "714de25f",
        "colab": {
          "base_uri": "https://localhost:8080/",
          "height": 241
        },
        "outputId": "2105a4af-cb8a-4835-d71e-5e8bf46d9e93"
      },
      "outputs": [
        {
          "output_type": "execute_result",
          "data": {
            "text/plain": [
              "gender  test preparation course\n",
              "female  completed                  78.793478\n",
              "        none                       68.982036\n",
              "male    completed                  69.793103\n",
              "        none                       59.649351\n",
              "Name: writing score, dtype: float64"
            ],
            "text/html": [
              "<div>\n",
              "<style scoped>\n",
              "    .dataframe tbody tr th:only-of-type {\n",
              "        vertical-align: middle;\n",
              "    }\n",
              "\n",
              "    .dataframe tbody tr th {\n",
              "        vertical-align: top;\n",
              "    }\n",
              "\n",
              "    .dataframe thead th {\n",
              "        text-align: right;\n",
              "    }\n",
              "</style>\n",
              "<table border=\"1\" class=\"dataframe\">\n",
              "  <thead>\n",
              "    <tr style=\"text-align: right;\">\n",
              "      <th></th>\n",
              "      <th></th>\n",
              "      <th>writing score</th>\n",
              "    </tr>\n",
              "    <tr>\n",
              "      <th>gender</th>\n",
              "      <th>test preparation course</th>\n",
              "      <th></th>\n",
              "    </tr>\n",
              "  </thead>\n",
              "  <tbody>\n",
              "    <tr>\n",
              "      <th rowspan=\"2\" valign=\"top\">female</th>\n",
              "      <th>completed</th>\n",
              "      <td>78.793478</td>\n",
              "    </tr>\n",
              "    <tr>\n",
              "      <th>none</th>\n",
              "      <td>68.982036</td>\n",
              "    </tr>\n",
              "    <tr>\n",
              "      <th rowspan=\"2\" valign=\"top\">male</th>\n",
              "      <th>completed</th>\n",
              "      <td>69.793103</td>\n",
              "    </tr>\n",
              "    <tr>\n",
              "      <th>none</th>\n",
              "      <td>59.649351</td>\n",
              "    </tr>\n",
              "  </tbody>\n",
              "</table>\n",
              "</div><br><label><b>dtype:</b> float64</label>"
            ]
          },
          "metadata": {},
          "execution_count": 13
        }
      ],
      "source": [
        "df.groupby(['gender', 'test preparation course'])['writing score'].mean()\n"
      ]
    },
    {
      "cell_type": "markdown",
      "source": [
        "La combinación que muestra mejores resultados son el grupo de las mujeres, pero priorizaría una beca para los hombres que no relizaron el preparatorio, ya que ellos son los que más necesitan refuerzo en este tema y les ayudaría mucho en el refuerzo y también merecen una oportunidad de también tener altos resultados, es decir, no siempre premiar a los mismos por sus resultados, si no darles la oportunidad a otras personas que no puedan o no tengan la posibilidad de hacerlo."
      ],
      "metadata": {
        "id": "qikv0oCMp--K"
      },
      "id": "qikv0oCMp--K"
    },
    {
      "cell_type": "code",
      "source": [],
      "metadata": {
        "id": "B79VmlkopWiZ"
      },
      "id": "B79VmlkopWiZ",
      "execution_count": null,
      "outputs": []
    }
  ],
  "metadata": {
    "kernelspec": {
      "display_name": "Python 3",
      "language": "python",
      "name": "python3"
    },
    "language_info": {
      "name": "python",
      "version": "3.x"
    },
    "colab": {
      "provenance": []
    }
  },
  "nbformat": 4,
  "nbformat_minor": 5
}